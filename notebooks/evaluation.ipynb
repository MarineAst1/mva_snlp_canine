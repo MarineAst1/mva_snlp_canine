{
 "cells": [
  {
   "cell_type": "code",
   "execution_count": 1,
   "metadata": {},
   "outputs": [],
   "source": [
    "import glob\n",
    "import json\n",
    "import warnings\n",
    "\n",
    "import pandas as pd\n",
    "import plotly.express as px\n",
    "import torch\n",
    "from datasets import load_dataset\n",
    "from evaluate.visualization import radar_plot\n",
    "from tqdm.autonotebook import tqdm\n",
    "from transformers import AutoModelForSequenceClassification, AutoTokenizer, Trainer\n",
    "\n",
    "from mva_snlp_canine.nli.tokenize_dataset import tokenize_example\n",
    "from mva_snlp_canine.nli.train_models import compute_metrics"
   ]
  },
  {
   "cell_type": "code",
   "execution_count": 4,
   "metadata": {},
   "outputs": [],
   "source": [
    "language = \"ar\""
   ]
  },
  {
   "cell_type": "code",
   "execution_count": 7,
   "metadata": {},
   "outputs": [
    {
     "name": "stdout",
     "output_type": "stream",
     "text": [
      "Downloading and preparing dataset xnli/ar to /home/gwatk/.cache/huggingface/datasets/xnli/ar/1.1.0/818164464f9c9fd15776ca8a00423b074344c3e929d00a2c1a84aa5a50c928bd...\n"
     ]
    },
    {
     "data": {
      "application/vnd.jupyter.widget-view+json": {
       "model_id": "24cff7e1342e4db7bc19f655ed6d2993",
       "version_major": 2,
       "version_minor": 0
      },
      "text/plain": [
       "Downloading data files:   0%|          | 0/2 [00:00<?, ?it/s]"
      ]
     },
     "metadata": {},
     "output_type": "display_data"
    },
    {
     "data": {
      "application/vnd.jupyter.widget-view+json": {
       "model_id": "7c4aa217f4f945d3bd3dbc7678933347",
       "version_major": 2,
       "version_minor": 0
      },
      "text/plain": [
       "Extracting data files:   0%|          | 0/2 [00:00<?, ?it/s]"
      ]
     },
     "metadata": {},
     "output_type": "display_data"
    },
    {
     "data": {
      "application/vnd.jupyter.widget-view+json": {
       "model_id": "a20af4b233664646bf2b06f6b2bb35b9",
       "version_major": 2,
       "version_minor": 0
      },
      "text/plain": [
       "Generating train split:   0%|          | 0/392702 [00:00<?, ? examples/s]"
      ]
     },
     "metadata": {},
     "output_type": "display_data"
    },
    {
     "data": {
      "application/vnd.jupyter.widget-view+json": {
       "model_id": "410d0dbbc6d247de82e186ab03b34d4f",
       "version_major": 2,
       "version_minor": 0
      },
      "text/plain": [
       "Generating test split:   0%|          | 0/5010 [00:00<?, ? examples/s]"
      ]
     },
     "metadata": {},
     "output_type": "display_data"
    },
    {
     "data": {
      "application/vnd.jupyter.widget-view+json": {
       "model_id": "d5ca2bc9c2d24d6584914181e3c16d59",
       "version_major": 2,
       "version_minor": 0
      },
      "text/plain": [
       "Generating validation split:   0%|          | 0/2490 [00:00<?, ? examples/s]"
      ]
     },
     "metadata": {},
     "output_type": "display_data"
    },
    {
     "name": "stdout",
     "output_type": "stream",
     "text": [
      "Dataset xnli downloaded and prepared to /home/gwatk/.cache/huggingface/datasets/xnli/ar/1.1.0/818164464f9c9fd15776ca8a00423b074344c3e929d00a2c1a84aa5a50c928bd. Subsequent calls will reuse this data.\n",
      "--- Language ar: 5010\n"
     ]
    }
   ],
   "source": [
    "dataset = load_dataset(\"xnli\", language, split=\"test\")\n",
    "print(f\"--- Language {language}: {len(dataset)}\")\n",
    "\n",
    "dataset = dataset.rename_columns(\n",
    "    {\n",
    "        \"premise\": \"choosen_premise\",\n",
    "        \"hypothesis\": \"choosen_hypothesis\",\n",
    "        \"label\": \"label\",\n",
    "    }\n",
    ")"
   ]
  },
  {
   "cell_type": "code",
   "execution_count": 8,
   "metadata": {},
   "outputs": [
    {
     "data": {
      "text/plain": [
       "{'choosen_premise': ['حسنا ، لم أكن أفكر حتى حول ذلك ، لكن كنت محبطاً تماما ،وأنهيت الحديث معه مرة ثانية .',\n",
       "  'حسنا ، لم أكن أفكر حتى حول ذلك ، لكن كنت محبطاً تماما ،وأنهيت الحديث معه مرة ثانية .',\n",
       "  'حسنا ، لم أكن أفكر حتى حول ذلك ، لكن كنت محبطاً تماما ،وأنهيت الحديث معه مرة ثانية .'],\n",
       " 'choosen_hypothesis': ['لم أتحدث معه مرة أخرى.',\n",
       "  'كنت مستاء جدا لدرجة أنني بدأت بالحديث معه مرة أخرى.',\n",
       "  'دار بيننا حديث رائع.'],\n",
       " 'label': [2, 0, 1]}"
      ]
     },
     "execution_count": 8,
     "metadata": {},
     "output_type": "execute_result"
    }
   ],
   "source": [
    "dataset[0:3]"
   ]
  },
  {
   "cell_type": "code",
   "execution_count": 9,
   "metadata": {},
   "outputs": [],
   "source": [
    "exp_dir = \"nli_results/200k_ar_tr\""
   ]
  },
  {
   "cell_type": "code",
   "execution_count": 12,
   "metadata": {},
   "outputs": [],
   "source": [
    "trainer_states = glob.glob(f\"{exp_dir}/models/**/trainer_state.json\")"
   ]
  },
  {
   "cell_type": "code",
   "execution_count": 16,
   "metadata": {},
   "outputs": [],
   "source": [
    "for file in trainer_states:\n",
    "    with open(file) as f:\n",
    "        trainer_state = json.load(f)"
   ]
  },
  {
   "cell_type": "code",
   "execution_count": 55,
   "metadata": {},
   "outputs": [
    {
     "data": {
      "text/plain": [
       "'nli_results/200k_ar_tr/models/_canine_c/checkpoint-18750'"
      ]
     },
     "execution_count": 55,
     "metadata": {},
     "output_type": "execute_result"
    }
   ],
   "source": [
    "trainer_state[\"best_model_checkpoint\"]"
   ]
  },
  {
   "cell_type": "code",
   "execution_count": 104,
   "metadata": {},
   "outputs": [
    {
     "name": "stderr",
     "output_type": "stream",
     "text": [
      "Using unk_token, but it is not set yet.\n",
      "Using unk_token, but it is not set yet.\n",
      "Using unk_token, but it is not set yet.\n",
      "Using unk_token, but it is not set yet.\n",
      "Using unk_token, but it is not set yet.\n",
      "Using unk_token, but it is not set yet.\n",
      "Using unk_token, but it is not set yet.\n",
      "Using unk_token, but it is not set yet.\n"
     ]
    },
    {
     "name": "stdout",
     "output_type": "stream",
     "text": [
      "Best model checkpoint: nli_results/200k_ar_tr/models/_canine_c/checkpoint-18750\n"
     ]
    }
   ],
   "source": [
    "model_path = trainer_state[\"best_model_checkpoint\"]\n",
    "print(f\"Best model checkpoint: {trainer_state['best_model_checkpoint']}\")\n",
    "\n",
    "tokenizer = AutoTokenizer.from_pretrained(trainer_state[\"best_model_checkpoint\"])\n",
    "model = AutoModelForSequenceClassification.from_pretrained(\n",
    "    trainer_state[\"best_model_checkpoint\"]\n",
    ")\n",
    "model.eval();"
   ]
  },
  {
   "cell_type": "code",
   "execution_count": 96,
   "metadata": {},
   "outputs": [],
   "source": [
    "examples = tokenizer(\n",
    "    dataset[0:8][\"choosen_premise\"],\n",
    "    dataset[0:8][\"choosen_hypothesis\"],\n",
    "    return_tensors=\"pt\",\n",
    "    padding=True,\n",
    "    truncation=True,\n",
    ")"
   ]
  },
  {
   "cell_type": "code",
   "execution_count": 107,
   "metadata": {},
   "outputs": [
    {
     "name": "stdout",
     "output_type": "stream",
     "text": [
      "--- Tokenizing the dataset...\n"
     ]
    },
    {
     "data": {
      "application/vnd.jupyter.widget-view+json": {
       "model_id": "c2cd4cbdcc9f4abb932998610f1aae38",
       "version_major": 2,
       "version_minor": 0
      },
      "text/plain": [
       "Map (num_proc=12):   0%|          | 0/5010 [00:00<?, ? examples/s]"
      ]
     },
     "metadata": {},
     "output_type": "display_data"
    }
   ],
   "source": [
    "print(\"--- Tokenizing the dataset...\")\n",
    "tdataset = dataset.map(\n",
    "    tokenize_example,\n",
    "    num_proc=12,\n",
    "    fn_kwargs={\"tokenizer\": tokenizer, \"max_length\": None},\n",
    ")\n",
    "\n",
    "tdataset = tdataset.select_columns(\n",
    "    [\"input_ids\", \"attention_mask\", \"token_type_ids\", \"label\"]\n",
    ")"
   ]
  },
  {
   "cell_type": "code",
   "execution_count": 157,
   "metadata": {},
   "outputs": [],
   "source": [
    "def evaluate_model_on_language(model_path: str, language: str):\n",
    "    \"\"\"Evaluate the model on the test dataset of the given language.\"\"\"\n",
    "    model_name = model_path.split(\"/\")[-2].strip(\"_\")\n",
    "    print(f\"=== Language : {language} | Model : {model_name}\")\n",
    "    dataset = load_dataset(\"xnli\", language, split=\"test\")\n",
    "\n",
    "    dataset = dataset.rename_columns(\n",
    "        {\n",
    "            \"premise\": \"choosen_premise\",\n",
    "            \"hypothesis\": \"choosen_hypothesis\",\n",
    "            \"label\": \"label\",\n",
    "        }\n",
    "    )\n",
    "\n",
    "    print(f\"--- Loading the model and tokenizer from {model_path}...\")\n",
    "    tokenizer = AutoTokenizer.from_pretrained(model_path)\n",
    "    model = AutoModelForSequenceClassification.from_pretrained(model_path)\n",
    "    model.eval()\n",
    "\n",
    "    print(\"--- Tokenizing the dataset...\")\n",
    "    dataset = dataset.map(\n",
    "        tokenize_example,\n",
    "        num_proc=12,\n",
    "        fn_kwargs={\"tokenizer\": tokenizer, \"max_length\": None},\n",
    "    )\n",
    "\n",
    "    dataset = dataset.select_columns(\n",
    "        [\"input_ids\", \"attention_mask\", \"token_type_ids\", \"label\"]\n",
    "    )\n",
    "\n",
    "    print(f\"--- Cuda is available: {torch.cuda.is_available()}\")\n",
    "\n",
    "    trainer = Trainer(\n",
    "        model=model,\n",
    "        compute_metrics=compute_metrics,\n",
    "        tokenizer=tokenizer,\n",
    "    )\n",
    "\n",
    "    print(\"--- Evaluating the model...\")\n",
    "    predictions, label_ids, metrics = trainer.predict(dataset)\n",
    "    metrics[\"language\"] = language\n",
    "    metrics[\"model_path\"] = model_path\n",
    "    metrics[\"model\"] = model_name\n",
    "\n",
    "    return predictions, label_ids, metrics"
   ]
  },
  {
   "cell_type": "code",
   "execution_count": null,
   "metadata": {},
   "outputs": [],
   "source": [
    "exp_dir = \"nli_results/200k_ar_tr\"\n",
    "\n",
    "language_subset = [\n",
    "    \"en\",\n",
    "    \"ar\",\n",
    "    \"fr\",\n",
    "    \"es\",\n",
    "    \"de\",\n",
    "    \"el\",\n",
    "    \"bg\",\n",
    "    \"ru\",\n",
    "    \"tr\",\n",
    "    \"zh\",\n",
    "    \"th\",\n",
    "    \"vi\",\n",
    "    \"hi\",\n",
    "    \"ur\",\n",
    "    \"sw\",\n",
    "]\n",
    "\n",
    "trainer_states = glob.glob(f\"{exp_dir}/models/**/trainer_state.json\")"
   ]
  },
  {
   "cell_type": "code",
   "execution_count": 155,
   "metadata": {},
   "outputs": [],
   "source": [
    "warnings.filterwarnings(\"ignore\")"
   ]
  },
  {
   "cell_type": "code",
   "execution_count": 156,
   "metadata": {},
   "outputs": [
    {
     "name": "stderr",
     "output_type": "stream",
     "text": [
      "Using unk_token, but it is not set yet.\n",
      "Using unk_token, but it is not set yet.\n",
      "Using unk_token, but it is not set yet.\n",
      "Using unk_token, but it is not set yet.\n",
      "Using unk_token, but it is not set yet.\n",
      "Using unk_token, but it is not set yet.\n",
      "Using unk_token, but it is not set yet.\n",
      "Using unk_token, but it is not set yet.\n",
      "You're using a BertTokenizerFast tokenizer. Please note that with a fast tokenizer, using the `__call__` method is faster than using a method to encode the text followed by a call to the `pad` method to get a padded encoding.\n",
      "Using unk_token, but it is not set yet.\n",
      "Using unk_token, but it is not set yet.\n",
      "Using unk_token, but it is not set yet.\n",
      "Using unk_token, but it is not set yet.\n",
      "Using unk_token, but it is not set yet.\n",
      "Using unk_token, but it is not set yet.\n",
      "Using unk_token, but it is not set yet.\n",
      "Using unk_token, but it is not set yet.\n",
      "Using unk_token, but it is not set yet.\n",
      "Using unk_token, but it is not set yet.\n",
      "Using unk_token, but it is not set yet.\n",
      "Using unk_token, but it is not set yet.\n",
      "Using unk_token, but it is not set yet.\n",
      "Using unk_token, but it is not set yet.\n",
      "Using unk_token, but it is not set yet.\n",
      "Using unk_token, but it is not set yet.\n",
      "You're using a BertTokenizerFast tokenizer. Please note that with a fast tokenizer, using the `__call__` method is faster than using a method to encode the text followed by a call to the `pad` method to get a padded encoding.\n",
      "Using unk_token, but it is not set yet.\n",
      "Using unk_token, but it is not set yet.\n",
      "Using unk_token, but it is not set yet.\n",
      "Using unk_token, but it is not set yet.\n",
      "Using unk_token, but it is not set yet.\n",
      "Using unk_token, but it is not set yet.\n",
      "Using unk_token, but it is not set yet.\n",
      "Using unk_token, but it is not set yet.\n",
      "Using unk_token, but it is not set yet.\n",
      "Using unk_token, but it is not set yet.\n",
      "Using unk_token, but it is not set yet.\n",
      "Using unk_token, but it is not set yet.\n",
      "Using unk_token, but it is not set yet.\n",
      "Using unk_token, but it is not set yet.\n",
      "Using unk_token, but it is not set yet.\n",
      "Using unk_token, but it is not set yet.\n",
      "You're using a BertTokenizerFast tokenizer. Please note that with a fast tokenizer, using the `__call__` method is faster than using a method to encode the text followed by a call to the `pad` method to get a padded encoding.\n",
      "Using unk_token, but it is not set yet.\n",
      "Using unk_token, but it is not set yet.\n",
      "Using unk_token, but it is not set yet.\n",
      "Using unk_token, but it is not set yet.\n",
      "Using unk_token, but it is not set yet.\n",
      "Using unk_token, but it is not set yet.\n",
      "Using unk_token, but it is not set yet.\n",
      "Using unk_token, but it is not set yet.\n",
      "Using unk_token, but it is not set yet.\n",
      "Using unk_token, but it is not set yet.\n",
      "Using unk_token, but it is not set yet.\n",
      "Using unk_token, but it is not set yet.\n",
      "Using unk_token, but it is not set yet.\n",
      "Using unk_token, but it is not set yet.\n",
      "Using unk_token, but it is not set yet.\n",
      "Using unk_token, but it is not set yet.\n",
      "You're using a BertTokenizerFast tokenizer. Please note that with a fast tokenizer, using the `__call__` method is faster than using a method to encode the text followed by a call to the `pad` method to get a padded encoding.\n",
      "Using unk_token, but it is not set yet.\n",
      "Using unk_token, but it is not set yet.\n",
      "Using unk_token, but it is not set yet.\n",
      "Using unk_token, but it is not set yet.\n",
      "Using unk_token, but it is not set yet.\n",
      "Using unk_token, but it is not set yet.\n",
      "Using unk_token, but it is not set yet.\n",
      "Using unk_token, but it is not set yet.\n",
      "Using unk_token, but it is not set yet.\n",
      "Using unk_token, but it is not set yet.\n",
      "Using unk_token, but it is not set yet.\n",
      "Using unk_token, but it is not set yet.\n",
      "Using unk_token, but it is not set yet.\n",
      "Using unk_token, but it is not set yet.\n",
      "Using unk_token, but it is not set yet.\n",
      "Using unk_token, but it is not set yet.\n",
      "You're using a BertTokenizerFast tokenizer. Please note that with a fast tokenizer, using the `__call__` method is faster than using a method to encode the text followed by a call to the `pad` method to get a padded encoding.\n",
      "Using unk_token, but it is not set yet.\n",
      "Using unk_token, but it is not set yet.\n",
      "Using unk_token, but it is not set yet.\n",
      "Using unk_token, but it is not set yet.\n",
      "Using unk_token, but it is not set yet.\n",
      "Using unk_token, but it is not set yet.\n",
      "Using unk_token, but it is not set yet.\n",
      "Using unk_token, but it is not set yet.\n",
      "Using unk_token, but it is not set yet.\n",
      "Using unk_token, but it is not set yet.\n",
      "Using unk_token, but it is not set yet.\n",
      "Using unk_token, but it is not set yet.\n",
      "Using unk_token, but it is not set yet.\n",
      "Using unk_token, but it is not set yet.\n",
      "Using unk_token, but it is not set yet.\n",
      "Using unk_token, but it is not set yet.\n",
      "You're using a BertTokenizerFast tokenizer. Please note that with a fast tokenizer, using the `__call__` method is faster than using a method to encode the text followed by a call to the `pad` method to get a padded encoding.\n",
      "Using unk_token, but it is not set yet.\n",
      "Using unk_token, but it is not set yet.\n",
      "Using unk_token, but it is not set yet.\n",
      "Using unk_token, but it is not set yet.\n",
      "Using unk_token, but it is not set yet.\n",
      "Using unk_token, but it is not set yet.\n",
      "Using unk_token, but it is not set yet.\n",
      "Using unk_token, but it is not set yet.\n",
      "Using unk_token, but it is not set yet.\n",
      "Using unk_token, but it is not set yet.\n",
      "Using unk_token, but it is not set yet.\n",
      "Using unk_token, but it is not set yet.\n",
      "Using unk_token, but it is not set yet.\n",
      "Using unk_token, but it is not set yet.\n",
      "Using unk_token, but it is not set yet.\n",
      "Using unk_token, but it is not set yet.\n",
      "You're using a BertTokenizerFast tokenizer. Please note that with a fast tokenizer, using the `__call__` method is faster than using a method to encode the text followed by a call to the `pad` method to get a padded encoding.\n",
      "Using unk_token, but it is not set yet.\n",
      "Using unk_token, but it is not set yet.\n",
      "Using unk_token, but it is not set yet.\n",
      "Using unk_token, but it is not set yet.\n",
      "Using unk_token, but it is not set yet.\n",
      "Using unk_token, but it is not set yet.\n",
      "Using unk_token, but it is not set yet.\n",
      "Using unk_token, but it is not set yet.\n",
      "Using unk_token, but it is not set yet.\n",
      "Using unk_token, but it is not set yet.\n",
      "Using unk_token, but it is not set yet.\n",
      "Using unk_token, but it is not set yet.\n",
      "Using unk_token, but it is not set yet.\n",
      "Using unk_token, but it is not set yet.\n",
      "Using unk_token, but it is not set yet.\n",
      "Using unk_token, but it is not set yet.\n",
      "You're using a BertTokenizerFast tokenizer. Please note that with a fast tokenizer, using the `__call__` method is faster than using a method to encode the text followed by a call to the `pad` method to get a padded encoding.\n",
      "Using unk_token, but it is not set yet.\n",
      "Using unk_token, but it is not set yet.\n",
      "Using unk_token, but it is not set yet.\n",
      "Using unk_token, but it is not set yet.\n",
      "Using unk_token, but it is not set yet.\n",
      "Using unk_token, but it is not set yet.\n",
      "Using unk_token, but it is not set yet.\n",
      "Using unk_token, but it is not set yet.\n",
      "Using unk_token, but it is not set yet.\n",
      "Using unk_token, but it is not set yet.\n",
      "Using unk_token, but it is not set yet.\n",
      "Using unk_token, but it is not set yet.\n",
      "Using unk_token, but it is not set yet.\n",
      "Using unk_token, but it is not set yet.\n",
      "Using unk_token, but it is not set yet.\n",
      "Using unk_token, but it is not set yet.\n",
      "You're using a BertTokenizerFast tokenizer. Please note that with a fast tokenizer, using the `__call__` method is faster than using a method to encode the text followed by a call to the `pad` method to get a padded encoding.\n",
      "Using unk_token, but it is not set yet.\n",
      "Using unk_token, but it is not set yet.\n",
      "Using unk_token, but it is not set yet.\n",
      "Using unk_token, but it is not set yet.\n",
      "Using unk_token, but it is not set yet.\n",
      "Using unk_token, but it is not set yet.\n",
      "Using unk_token, but it is not set yet.\n",
      "Using unk_token, but it is not set yet.\n",
      "Using unk_token, but it is not set yet.\n",
      "Using unk_token, but it is not set yet.\n",
      "Using unk_token, but it is not set yet.\n",
      "Using unk_token, but it is not set yet.\n",
      "Using unk_token, but it is not set yet.\n",
      "Using unk_token, but it is not set yet.\n",
      "Using unk_token, but it is not set yet.\n",
      "Using unk_token, but it is not set yet.\n",
      "You're using a BertTokenizerFast tokenizer. Please note that with a fast tokenizer, using the `__call__` method is faster than using a method to encode the text followed by a call to the `pad` method to get a padded encoding.\n",
      "Using unk_token, but it is not set yet.\n",
      "Using unk_token, but it is not set yet.\n",
      "Using unk_token, but it is not set yet.\n",
      "Using unk_token, but it is not set yet.\n",
      "Using unk_token, but it is not set yet.\n",
      "Using unk_token, but it is not set yet.\n",
      "Using unk_token, but it is not set yet.\n",
      "Using unk_token, but it is not set yet.\n",
      "Using unk_token, but it is not set yet.\n",
      "Using unk_token, but it is not set yet.\n",
      "Using unk_token, but it is not set yet.\n",
      "Using unk_token, but it is not set yet.\n",
      "Using unk_token, but it is not set yet.\n",
      "Using unk_token, but it is not set yet.\n",
      "Using unk_token, but it is not set yet.\n",
      "Using unk_token, but it is not set yet.\n",
      "You're using a BertTokenizerFast tokenizer. Please note that with a fast tokenizer, using the `__call__` method is faster than using a method to encode the text followed by a call to the `pad` method to get a padded encoding.\n",
      "Using unk_token, but it is not set yet.\n",
      "Using unk_token, but it is not set yet.\n",
      "Using unk_token, but it is not set yet.\n",
      "Using unk_token, but it is not set yet.\n",
      "Using unk_token, but it is not set yet.\n",
      "Using unk_token, but it is not set yet.\n",
      "Using unk_token, but it is not set yet.\n",
      "Using unk_token, but it is not set yet.\n",
      "Using unk_token, but it is not set yet.\n",
      "Using unk_token, but it is not set yet.\n",
      "Using unk_token, but it is not set yet.\n",
      "Using unk_token, but it is not set yet.\n",
      "Using unk_token, but it is not set yet.\n",
      "Using unk_token, but it is not set yet.\n",
      "Using unk_token, but it is not set yet.\n",
      "Using unk_token, but it is not set yet.\n",
      "You're using a BertTokenizerFast tokenizer. Please note that with a fast tokenizer, using the `__call__` method is faster than using a method to encode the text followed by a call to the `pad` method to get a padded encoding.\n",
      "Using unk_token, but it is not set yet.\n",
      "Using unk_token, but it is not set yet.\n",
      "Using unk_token, but it is not set yet.\n",
      "Using unk_token, but it is not set yet.\n",
      "Using unk_token, but it is not set yet.\n",
      "Using unk_token, but it is not set yet.\n",
      "Using unk_token, but it is not set yet.\n",
      "Using unk_token, but it is not set yet.\n",
      "Using unk_token, but it is not set yet.\n",
      "Using unk_token, but it is not set yet.\n",
      "Using unk_token, but it is not set yet.\n",
      "Using unk_token, but it is not set yet.\n",
      "Using unk_token, but it is not set yet.\n",
      "Using unk_token, but it is not set yet.\n",
      "Using unk_token, but it is not set yet.\n",
      "Using unk_token, but it is not set yet.\n",
      "You're using a BertTokenizerFast tokenizer. Please note that with a fast tokenizer, using the `__call__` method is faster than using a method to encode the text followed by a call to the `pad` method to get a padded encoding.\n",
      "Using unk_token, but it is not set yet.\n",
      "Using unk_token, but it is not set yet.\n",
      "Using unk_token, but it is not set yet.\n",
      "Using unk_token, but it is not set yet.\n",
      "Using unk_token, but it is not set yet.\n",
      "Using unk_token, but it is not set yet.\n",
      "Using unk_token, but it is not set yet.\n",
      "Using unk_token, but it is not set yet.\n",
      "Using unk_token, but it is not set yet.\n",
      "Using unk_token, but it is not set yet.\n",
      "Using unk_token, but it is not set yet.\n",
      "Using unk_token, but it is not set yet.\n",
      "Using unk_token, but it is not set yet.\n",
      "Using unk_token, but it is not set yet.\n",
      "Using unk_token, but it is not set yet.\n",
      "Using unk_token, but it is not set yet.\n",
      "You're using a BertTokenizerFast tokenizer. Please note that with a fast tokenizer, using the `__call__` method is faster than using a method to encode the text followed by a call to the `pad` method to get a padded encoding.\n",
      "Using unk_token, but it is not set yet.\n",
      "Using unk_token, but it is not set yet.\n",
      "Using unk_token, but it is not set yet.\n",
      "Using unk_token, but it is not set yet.\n",
      "Using unk_token, but it is not set yet.\n",
      "Using unk_token, but it is not set yet.\n",
      "Using unk_token, but it is not set yet.\n",
      "Using unk_token, but it is not set yet.\n",
      "Using unk_token, but it is not set yet.\n",
      "Using unk_token, but it is not set yet.\n",
      "Using unk_token, but it is not set yet.\n",
      "Using unk_token, but it is not set yet.\n",
      "Using unk_token, but it is not set yet.\n",
      "Using unk_token, but it is not set yet.\n",
      "Using unk_token, but it is not set yet.\n",
      "Using unk_token, but it is not set yet.\n",
      "You're using a BertTokenizerFast tokenizer. Please note that with a fast tokenizer, using the `__call__` method is faster than using a method to encode the text followed by a call to the `pad` method to get a padded encoding.\n",
      "Using unk_token, but it is not set yet.\n",
      "Using unk_token, but it is not set yet.\n",
      "Using unk_token, but it is not set yet.\n",
      "Using unk_token, but it is not set yet.\n",
      "Using unk_token, but it is not set yet.\n",
      "Using unk_token, but it is not set yet.\n",
      "Using unk_token, but it is not set yet.\n",
      "Using unk_token, but it is not set yet.\n"
     ]
    }
   ],
   "source": [
    "language_metrics = []\n",
    "language_predictions = {}\n",
    "language_label_ids = {}\n",
    "for language in tqdm(language_subset):\n",
    "    for file in trainer_states:\n",
    "        with open(file) as f:\n",
    "            trainer_state = json.load(f)\n",
    "        predictions, label_ids, metrics = evaluate_model_on_language(\n",
    "            trainer_state[\"best_model_checkpoint\"], language\n",
    "        )\n",
    "        language_metrics.append(metrics)\n",
    "        language_predictions[language] = predictions\n",
    "        language_label_ids[language] = label_ids"
   ]
  },
  {
   "cell_type": "code",
   "execution_count": 161,
   "metadata": {},
   "outputs": [],
   "source": [
    "metrics_df = pd.DataFrame(language_metrics)"
   ]
  },
  {
   "cell_type": "code",
   "execution_count": 162,
   "metadata": {},
   "outputs": [
    {
     "data": {
      "text/html": [
       "<div>\n",
       "<style scoped>\n",
       "    .dataframe tbody tr th:only-of-type {\n",
       "        vertical-align: middle;\n",
       "    }\n",
       "\n",
       "    .dataframe tbody tr th {\n",
       "        vertical-align: top;\n",
       "    }\n",
       "\n",
       "    .dataframe thead th {\n",
       "        text-align: right;\n",
       "    }\n",
       "</style>\n",
       "<table border=\"1\" class=\"dataframe\">\n",
       "  <thead>\n",
       "    <tr style=\"text-align: right;\">\n",
       "      <th></th>\n",
       "      <th>test_loss</th>\n",
       "      <th>test_accuracy</th>\n",
       "      <th>test_f1_weighted</th>\n",
       "      <th>test_precision_weighted</th>\n",
       "      <th>test_recall_weighted</th>\n",
       "      <th>test_runtime</th>\n",
       "      <th>test_samples_per_second</th>\n",
       "      <th>test_steps_per_second</th>\n",
       "      <th>language</th>\n",
       "      <th>model_path</th>\n",
       "      <th>model</th>\n",
       "    </tr>\n",
       "  </thead>\n",
       "  <tbody>\n",
       "    <tr>\n",
       "      <th>0</th>\n",
       "      <td>1.060375</td>\n",
       "      <td>0.472455</td>\n",
       "      <td>0.469053</td>\n",
       "      <td>0.469293</td>\n",
       "      <td>0.472455</td>\n",
       "      <td>18.1147</td>\n",
       "      <td>276.571</td>\n",
       "      <td>34.613</td>\n",
       "      <td>en</td>\n",
       "      <td>nli_results/200k_ar_tr/models/_canine_s/checkp...</td>\n",
       "      <td>canine_s</td>\n",
       "    </tr>\n",
       "    <tr>\n",
       "      <th>1</th>\n",
       "      <td>1.000458</td>\n",
       "      <td>0.587425</td>\n",
       "      <td>0.571682</td>\n",
       "      <td>0.642902</td>\n",
       "      <td>0.587425</td>\n",
       "      <td>10.2490</td>\n",
       "      <td>488.829</td>\n",
       "      <td>61.177</td>\n",
       "      <td>en</td>\n",
       "      <td>nli_results/200k_ar_tr/models/_bert/checkpoint...</td>\n",
       "      <td>bert</td>\n",
       "    </tr>\n",
       "    <tr>\n",
       "      <th>2</th>\n",
       "      <td>1.085168</td>\n",
       "      <td>0.492615</td>\n",
       "      <td>0.485814</td>\n",
       "      <td>0.493514</td>\n",
       "      <td>0.492615</td>\n",
       "      <td>18.8172</td>\n",
       "      <td>266.246</td>\n",
       "      <td>33.321</td>\n",
       "      <td>en</td>\n",
       "      <td>nli_results/200k_ar_tr/models/_canine_c/checkp...</td>\n",
       "      <td>canine_c</td>\n",
       "    </tr>\n",
       "    <tr>\n",
       "      <th>3</th>\n",
       "      <td>0.908508</td>\n",
       "      <td>0.594611</td>\n",
       "      <td>0.592519</td>\n",
       "      <td>0.613616</td>\n",
       "      <td>0.594611</td>\n",
       "      <td>16.3440</td>\n",
       "      <td>306.535</td>\n",
       "      <td>38.363</td>\n",
       "      <td>ar</td>\n",
       "      <td>nli_results/200k_ar_tr/models/_canine_s/checkp...</td>\n",
       "      <td>canine_s</td>\n",
       "    </tr>\n",
       "    <tr>\n",
       "      <th>4</th>\n",
       "      <td>0.848376</td>\n",
       "      <td>0.618762</td>\n",
       "      <td>0.617911</td>\n",
       "      <td>0.636501</td>\n",
       "      <td>0.618762</td>\n",
       "      <td>12.7894</td>\n",
       "      <td>391.730</td>\n",
       "      <td>49.025</td>\n",
       "      <td>ar</td>\n",
       "      <td>nli_results/200k_ar_tr/models/_bert/checkpoint...</td>\n",
       "      <td>bert</td>\n",
       "    </tr>\n",
       "    <tr>\n",
       "      <th>5</th>\n",
       "      <td>0.887389</td>\n",
       "      <td>0.602994</td>\n",
       "      <td>0.602307</td>\n",
       "      <td>0.621194</td>\n",
       "      <td>0.602994</td>\n",
       "      <td>16.1868</td>\n",
       "      <td>309.511</td>\n",
       "      <td>38.735</td>\n",
       "      <td>ar</td>\n",
       "      <td>nli_results/200k_ar_tr/models/_canine_c/checkp...</td>\n",
       "      <td>canine_c</td>\n",
       "    </tr>\n",
       "    <tr>\n",
       "      <th>6</th>\n",
       "      <td>1.057603</td>\n",
       "      <td>0.488623</td>\n",
       "      <td>0.480769</td>\n",
       "      <td>0.484602</td>\n",
       "      <td>0.488623</td>\n",
       "      <td>20.8189</td>\n",
       "      <td>240.647</td>\n",
       "      <td>30.117</td>\n",
       "      <td>fr</td>\n",
       "      <td>nli_results/200k_ar_tr/models/_canine_s/checkp...</td>\n",
       "      <td>canine_s</td>\n",
       "    </tr>\n",
       "    <tr>\n",
       "      <th>7</th>\n",
       "      <td>0.890555</td>\n",
       "      <td>0.612575</td>\n",
       "      <td>0.609294</td>\n",
       "      <td>0.621283</td>\n",
       "      <td>0.612575</td>\n",
       "      <td>11.9029</td>\n",
       "      <td>420.907</td>\n",
       "      <td>52.676</td>\n",
       "      <td>fr</td>\n",
       "      <td>nli_results/200k_ar_tr/models/_bert/checkpoint...</td>\n",
       "      <td>bert</td>\n",
       "    </tr>\n",
       "    <tr>\n",
       "      <th>8</th>\n",
       "      <td>1.074592</td>\n",
       "      <td>0.491417</td>\n",
       "      <td>0.486094</td>\n",
       "      <td>0.489999</td>\n",
       "      <td>0.491417</td>\n",
       "      <td>20.4022</td>\n",
       "      <td>245.562</td>\n",
       "      <td>30.732</td>\n",
       "      <td>fr</td>\n",
       "      <td>nli_results/200k_ar_tr/models/_canine_c/checkp...</td>\n",
       "      <td>canine_c</td>\n",
       "    </tr>\n",
       "    <tr>\n",
       "      <th>9</th>\n",
       "      <td>1.072156</td>\n",
       "      <td>0.483034</td>\n",
       "      <td>0.473682</td>\n",
       "      <td>0.479794</td>\n",
       "      <td>0.483034</td>\n",
       "      <td>19.4626</td>\n",
       "      <td>257.416</td>\n",
       "      <td>32.216</td>\n",
       "      <td>es</td>\n",
       "      <td>nli_results/200k_ar_tr/models/_canine_s/checkp...</td>\n",
       "      <td>canine_s</td>\n",
       "    </tr>\n",
       "    <tr>\n",
       "      <th>10</th>\n",
       "      <td>0.882102</td>\n",
       "      <td>0.615170</td>\n",
       "      <td>0.613514</td>\n",
       "      <td>0.618364</td>\n",
       "      <td>0.615170</td>\n",
       "      <td>10.6801</td>\n",
       "      <td>469.097</td>\n",
       "      <td>58.707</td>\n",
       "      <td>es</td>\n",
       "      <td>nli_results/200k_ar_tr/models/_bert/checkpoint...</td>\n",
       "      <td>bert</td>\n",
       "    </tr>\n",
       "    <tr>\n",
       "      <th>11</th>\n",
       "      <td>1.074601</td>\n",
       "      <td>0.502595</td>\n",
       "      <td>0.494863</td>\n",
       "      <td>0.501146</td>\n",
       "      <td>0.502595</td>\n",
       "      <td>19.2846</td>\n",
       "      <td>259.792</td>\n",
       "      <td>32.513</td>\n",
       "      <td>es</td>\n",
       "      <td>nli_results/200k_ar_tr/models/_canine_c/checkp...</td>\n",
       "      <td>canine_c</td>\n",
       "    </tr>\n",
       "    <tr>\n",
       "      <th>12</th>\n",
       "      <td>1.067416</td>\n",
       "      <td>0.464271</td>\n",
       "      <td>0.447447</td>\n",
       "      <td>0.455198</td>\n",
       "      <td>0.464271</td>\n",
       "      <td>19.4694</td>\n",
       "      <td>257.327</td>\n",
       "      <td>32.204</td>\n",
       "      <td>de</td>\n",
       "      <td>nli_results/200k_ar_tr/models/_canine_s/checkp...</td>\n",
       "      <td>canine_s</td>\n",
       "    </tr>\n",
       "    <tr>\n",
       "      <th>13</th>\n",
       "      <td>0.909482</td>\n",
       "      <td>0.594611</td>\n",
       "      <td>0.588775</td>\n",
       "      <td>0.608181</td>\n",
       "      <td>0.594611</td>\n",
       "      <td>11.3025</td>\n",
       "      <td>443.263</td>\n",
       "      <td>55.474</td>\n",
       "      <td>de</td>\n",
       "      <td>nli_results/200k_ar_tr/models/_bert/checkpoint...</td>\n",
       "      <td>bert</td>\n",
       "    </tr>\n",
       "    <tr>\n",
       "      <th>14</th>\n",
       "      <td>1.061284</td>\n",
       "      <td>0.491617</td>\n",
       "      <td>0.482990</td>\n",
       "      <td>0.486345</td>\n",
       "      <td>0.491617</td>\n",
       "      <td>21.2351</td>\n",
       "      <td>235.930</td>\n",
       "      <td>29.527</td>\n",
       "      <td>de</td>\n",
       "      <td>nli_results/200k_ar_tr/models/_canine_c/checkp...</td>\n",
       "      <td>canine_c</td>\n",
       "    </tr>\n",
       "    <tr>\n",
       "      <th>15</th>\n",
       "      <td>1.137362</td>\n",
       "      <td>0.448703</td>\n",
       "      <td>0.419851</td>\n",
       "      <td>0.437646</td>\n",
       "      <td>0.448703</td>\n",
       "      <td>21.1421</td>\n",
       "      <td>236.968</td>\n",
       "      <td>29.657</td>\n",
       "      <td>el</td>\n",
       "      <td>nli_results/200k_ar_tr/models/_canine_s/checkp...</td>\n",
       "      <td>canine_s</td>\n",
       "    </tr>\n",
       "    <tr>\n",
       "      <th>16</th>\n",
       "      <td>0.947238</td>\n",
       "      <td>0.589820</td>\n",
       "      <td>0.584784</td>\n",
       "      <td>0.601365</td>\n",
       "      <td>0.589820</td>\n",
       "      <td>18.6649</td>\n",
       "      <td>268.419</td>\n",
       "      <td>33.593</td>\n",
       "      <td>el</td>\n",
       "      <td>nli_results/200k_ar_tr/models/_bert/checkpoint...</td>\n",
       "      <td>bert</td>\n",
       "    </tr>\n",
       "    <tr>\n",
       "      <th>17</th>\n",
       "      <td>1.106528</td>\n",
       "      <td>0.464870</td>\n",
       "      <td>0.452820</td>\n",
       "      <td>0.453611</td>\n",
       "      <td>0.464870</td>\n",
       "      <td>21.4479</td>\n",
       "      <td>233.590</td>\n",
       "      <td>29.234</td>\n",
       "      <td>el</td>\n",
       "      <td>nli_results/200k_ar_tr/models/_canine_c/checkp...</td>\n",
       "      <td>canine_c</td>\n",
       "    </tr>\n",
       "    <tr>\n",
       "      <th>18</th>\n",
       "      <td>1.081814</td>\n",
       "      <td>0.469860</td>\n",
       "      <td>0.462429</td>\n",
       "      <td>0.464452</td>\n",
       "      <td>0.469860</td>\n",
       "      <td>20.0621</td>\n",
       "      <td>249.725</td>\n",
       "      <td>31.253</td>\n",
       "      <td>bg</td>\n",
       "      <td>nli_results/200k_ar_tr/models/_canine_s/checkp...</td>\n",
       "      <td>canine_s</td>\n",
       "    </tr>\n",
       "    <tr>\n",
       "      <th>19</th>\n",
       "      <td>0.919524</td>\n",
       "      <td>0.582236</td>\n",
       "      <td>0.577830</td>\n",
       "      <td>0.585093</td>\n",
       "      <td>0.582236</td>\n",
       "      <td>14.2956</td>\n",
       "      <td>350.457</td>\n",
       "      <td>43.860</td>\n",
       "      <td>bg</td>\n",
       "      <td>nli_results/200k_ar_tr/models/_bert/checkpoint...</td>\n",
       "      <td>bert</td>\n",
       "    </tr>\n",
       "    <tr>\n",
       "      <th>20</th>\n",
       "      <td>1.060254</td>\n",
       "      <td>0.494411</td>\n",
       "      <td>0.490235</td>\n",
       "      <td>0.491453</td>\n",
       "      <td>0.494411</td>\n",
       "      <td>19.7739</td>\n",
       "      <td>253.365</td>\n",
       "      <td>31.709</td>\n",
       "      <td>bg</td>\n",
       "      <td>nli_results/200k_ar_tr/models/_canine_c/checkp...</td>\n",
       "      <td>canine_c</td>\n",
       "    </tr>\n",
       "    <tr>\n",
       "      <th>21</th>\n",
       "      <td>1.066587</td>\n",
       "      <td>0.471257</td>\n",
       "      <td>0.461722</td>\n",
       "      <td>0.478223</td>\n",
       "      <td>0.471257</td>\n",
       "      <td>20.2761</td>\n",
       "      <td>247.089</td>\n",
       "      <td>30.923</td>\n",
       "      <td>ru</td>\n",
       "      <td>nli_results/200k_ar_tr/models/_canine_s/checkp...</td>\n",
       "      <td>canine_s</td>\n",
       "    </tr>\n",
       "    <tr>\n",
       "      <th>22</th>\n",
       "      <td>0.885560</td>\n",
       "      <td>0.603593</td>\n",
       "      <td>0.602322</td>\n",
       "      <td>0.604618</td>\n",
       "      <td>0.603593</td>\n",
       "      <td>13.3306</td>\n",
       "      <td>375.828</td>\n",
       "      <td>47.035</td>\n",
       "      <td>ru</td>\n",
       "      <td>nli_results/200k_ar_tr/models/_bert/checkpoint...</td>\n",
       "      <td>bert</td>\n",
       "    </tr>\n",
       "    <tr>\n",
       "      <th>23</th>\n",
       "      <td>1.066005</td>\n",
       "      <td>0.495409</td>\n",
       "      <td>0.492076</td>\n",
       "      <td>0.499986</td>\n",
       "      <td>0.495409</td>\n",
       "      <td>20.2488</td>\n",
       "      <td>247.422</td>\n",
       "      <td>30.965</td>\n",
       "      <td>ru</td>\n",
       "      <td>nli_results/200k_ar_tr/models/_canine_c/checkp...</td>\n",
       "      <td>canine_c</td>\n",
       "    </tr>\n",
       "    <tr>\n",
       "      <th>24</th>\n",
       "      <td>0.874684</td>\n",
       "      <td>0.608982</td>\n",
       "      <td>0.607020</td>\n",
       "      <td>0.627329</td>\n",
       "      <td>0.608982</td>\n",
       "      <td>18.8656</td>\n",
       "      <td>265.562</td>\n",
       "      <td>33.235</td>\n",
       "      <td>tr</td>\n",
       "      <td>nli_results/200k_ar_tr/models/_canine_s/checkp...</td>\n",
       "      <td>canine_s</td>\n",
       "    </tr>\n",
       "    <tr>\n",
       "      <th>25</th>\n",
       "      <td>0.833474</td>\n",
       "      <td>0.632136</td>\n",
       "      <td>0.630637</td>\n",
       "      <td>0.646314</td>\n",
       "      <td>0.632136</td>\n",
       "      <td>12.4939</td>\n",
       "      <td>400.996</td>\n",
       "      <td>50.184</td>\n",
       "      <td>tr</td>\n",
       "      <td>nli_results/200k_ar_tr/models/_bert/checkpoint...</td>\n",
       "      <td>bert</td>\n",
       "    </tr>\n",
       "    <tr>\n",
       "      <th>26</th>\n",
       "      <td>0.881846</td>\n",
       "      <td>0.614770</td>\n",
       "      <td>0.612890</td>\n",
       "      <td>0.632502</td>\n",
       "      <td>0.614770</td>\n",
       "      <td>18.4240</td>\n",
       "      <td>271.928</td>\n",
       "      <td>34.032</td>\n",
       "      <td>tr</td>\n",
       "      <td>nli_results/200k_ar_tr/models/_canine_c/checkp...</td>\n",
       "      <td>canine_c</td>\n",
       "    </tr>\n",
       "    <tr>\n",
       "      <th>27</th>\n",
       "      <td>1.819412</td>\n",
       "      <td>0.344511</td>\n",
       "      <td>0.223589</td>\n",
       "      <td>0.373311</td>\n",
       "      <td>0.344511</td>\n",
       "      <td>8.1267</td>\n",
       "      <td>616.490</td>\n",
       "      <td>77.154</td>\n",
       "      <td>zh</td>\n",
       "      <td>nli_results/200k_ar_tr/models/_canine_s/checkp...</td>\n",
       "      <td>canine_s</td>\n",
       "    </tr>\n",
       "    <tr>\n",
       "      <th>28</th>\n",
       "      <td>0.887573</td>\n",
       "      <td>0.602794</td>\n",
       "      <td>0.600619</td>\n",
       "      <td>0.605328</td>\n",
       "      <td>0.602794</td>\n",
       "      <td>11.1402</td>\n",
       "      <td>449.722</td>\n",
       "      <td>56.283</td>\n",
       "      <td>zh</td>\n",
       "      <td>nli_results/200k_ar_tr/models/_bert/checkpoint...</td>\n",
       "      <td>bert</td>\n",
       "    </tr>\n",
       "    <tr>\n",
       "      <th>29</th>\n",
       "      <td>1.535973</td>\n",
       "      <td>0.352096</td>\n",
       "      <td>0.239929</td>\n",
       "      <td>0.457606</td>\n",
       "      <td>0.352096</td>\n",
       "      <td>7.7004</td>\n",
       "      <td>650.619</td>\n",
       "      <td>81.425</td>\n",
       "      <td>zh</td>\n",
       "      <td>nli_results/200k_ar_tr/models/_canine_c/checkp...</td>\n",
       "      <td>canine_c</td>\n",
       "    </tr>\n",
       "    <tr>\n",
       "      <th>30</th>\n",
       "      <td>1.361300</td>\n",
       "      <td>0.399800</td>\n",
       "      <td>0.349679</td>\n",
       "      <td>0.413187</td>\n",
       "      <td>0.399800</td>\n",
       "      <td>16.1190</td>\n",
       "      <td>310.813</td>\n",
       "      <td>38.898</td>\n",
       "      <td>th</td>\n",
       "      <td>nli_results/200k_ar_tr/models/_canine_s/checkp...</td>\n",
       "      <td>canine_s</td>\n",
       "    </tr>\n",
       "    <tr>\n",
       "      <th>31</th>\n",
       "      <td>1.392531</td>\n",
       "      <td>0.417365</td>\n",
       "      <td>0.365930</td>\n",
       "      <td>0.437372</td>\n",
       "      <td>0.417365</td>\n",
       "      <td>22.2600</td>\n",
       "      <td>225.068</td>\n",
       "      <td>28.167</td>\n",
       "      <td>th</td>\n",
       "      <td>nli_results/200k_ar_tr/models/_bert/checkpoint...</td>\n",
       "      <td>bert</td>\n",
       "    </tr>\n",
       "    <tr>\n",
       "      <th>32</th>\n",
       "      <td>1.179135</td>\n",
       "      <td>0.412575</td>\n",
       "      <td>0.401837</td>\n",
       "      <td>0.425206</td>\n",
       "      <td>0.412575</td>\n",
       "      <td>15.8015</td>\n",
       "      <td>317.059</td>\n",
       "      <td>39.680</td>\n",
       "      <td>th</td>\n",
       "      <td>nli_results/200k_ar_tr/models/_canine_c/checkp...</td>\n",
       "      <td>canine_c</td>\n",
       "    </tr>\n",
       "    <tr>\n",
       "      <th>33</th>\n",
       "      <td>1.167664</td>\n",
       "      <td>0.444910</td>\n",
       "      <td>0.423647</td>\n",
       "      <td>0.440756</td>\n",
       "      <td>0.444910</td>\n",
       "      <td>19.2191</td>\n",
       "      <td>260.678</td>\n",
       "      <td>32.624</td>\n",
       "      <td>vi</td>\n",
       "      <td>nli_results/200k_ar_tr/models/_canine_s/checkp...</td>\n",
       "      <td>canine_s</td>\n",
       "    </tr>\n",
       "    <tr>\n",
       "      <th>34</th>\n",
       "      <td>0.931241</td>\n",
       "      <td>0.592216</td>\n",
       "      <td>0.586933</td>\n",
       "      <td>0.601721</td>\n",
       "      <td>0.592216</td>\n",
       "      <td>11.0741</td>\n",
       "      <td>452.407</td>\n",
       "      <td>56.619</td>\n",
       "      <td>vi</td>\n",
       "      <td>nli_results/200k_ar_tr/models/_bert/checkpoint...</td>\n",
       "      <td>bert</td>\n",
       "    </tr>\n",
       "    <tr>\n",
       "      <th>35</th>\n",
       "      <td>1.167763</td>\n",
       "      <td>0.457685</td>\n",
       "      <td>0.446712</td>\n",
       "      <td>0.454905</td>\n",
       "      <td>0.457685</td>\n",
       "      <td>18.4358</td>\n",
       "      <td>271.754</td>\n",
       "      <td>34.010</td>\n",
       "      <td>vi</td>\n",
       "      <td>nli_results/200k_ar_tr/models/_canine_c/checkp...</td>\n",
       "      <td>canine_c</td>\n",
       "    </tr>\n",
       "    <tr>\n",
       "      <th>36</th>\n",
       "      <td>1.346823</td>\n",
       "      <td>0.404192</td>\n",
       "      <td>0.358787</td>\n",
       "      <td>0.408155</td>\n",
       "      <td>0.404192</td>\n",
       "      <td>18.3143</td>\n",
       "      <td>273.557</td>\n",
       "      <td>34.236</td>\n",
       "      <td>hi</td>\n",
       "      <td>nli_results/200k_ar_tr/models/_canine_s/checkp...</td>\n",
       "      <td>canine_s</td>\n",
       "    </tr>\n",
       "    <tr>\n",
       "      <th>37</th>\n",
       "      <td>0.978621</td>\n",
       "      <td>0.559281</td>\n",
       "      <td>0.558169</td>\n",
       "      <td>0.563454</td>\n",
       "      <td>0.559281</td>\n",
       "      <td>14.9982</td>\n",
       "      <td>334.040</td>\n",
       "      <td>41.805</td>\n",
       "      <td>hi</td>\n",
       "      <td>nli_results/200k_ar_tr/models/_bert/checkpoint...</td>\n",
       "      <td>bert</td>\n",
       "    </tr>\n",
       "    <tr>\n",
       "      <th>38</th>\n",
       "      <td>1.180603</td>\n",
       "      <td>0.429541</td>\n",
       "      <td>0.420906</td>\n",
       "      <td>0.424405</td>\n",
       "      <td>0.429541</td>\n",
       "      <td>18.3312</td>\n",
       "      <td>273.304</td>\n",
       "      <td>34.204</td>\n",
       "      <td>hi</td>\n",
       "      <td>nli_results/200k_ar_tr/models/_canine_c/checkp...</td>\n",
       "      <td>canine_c</td>\n",
       "    </tr>\n",
       "    <tr>\n",
       "      <th>39</th>\n",
       "      <td>1.176206</td>\n",
       "      <td>0.428942</td>\n",
       "      <td>0.405444</td>\n",
       "      <td>0.421876</td>\n",
       "      <td>0.428942</td>\n",
       "      <td>17.8171</td>\n",
       "      <td>281.190</td>\n",
       "      <td>35.191</td>\n",
       "      <td>ur</td>\n",
       "      <td>nli_results/200k_ar_tr/models/_canine_s/checkp...</td>\n",
       "      <td>canine_s</td>\n",
       "    </tr>\n",
       "    <tr>\n",
       "      <th>40</th>\n",
       "      <td>1.005085</td>\n",
       "      <td>0.546906</td>\n",
       "      <td>0.547035</td>\n",
       "      <td>0.550100</td>\n",
       "      <td>0.546906</td>\n",
       "      <td>14.1929</td>\n",
       "      <td>352.993</td>\n",
       "      <td>44.177</td>\n",
       "      <td>ur</td>\n",
       "      <td>nli_results/200k_ar_tr/models/_bert/checkpoint...</td>\n",
       "      <td>bert</td>\n",
       "    </tr>\n",
       "    <tr>\n",
       "      <th>41</th>\n",
       "      <td>1.147777</td>\n",
       "      <td>0.431138</td>\n",
       "      <td>0.424150</td>\n",
       "      <td>0.432970</td>\n",
       "      <td>0.431138</td>\n",
       "      <td>18.0731</td>\n",
       "      <td>277.208</td>\n",
       "      <td>34.693</td>\n",
       "      <td>ur</td>\n",
       "      <td>nli_results/200k_ar_tr/models/_canine_c/checkp...</td>\n",
       "      <td>canine_c</td>\n",
       "    </tr>\n",
       "    <tr>\n",
       "      <th>42</th>\n",
       "      <td>1.104629</td>\n",
       "      <td>0.444711</td>\n",
       "      <td>0.440571</td>\n",
       "      <td>0.451894</td>\n",
       "      <td>0.444711</td>\n",
       "      <td>18.5075</td>\n",
       "      <td>270.702</td>\n",
       "      <td>33.878</td>\n",
       "      <td>sw</td>\n",
       "      <td>nli_results/200k_ar_tr/models/_canine_s/checkp...</td>\n",
       "      <td>canine_s</td>\n",
       "    </tr>\n",
       "    <tr>\n",
       "      <th>43</th>\n",
       "      <td>1.098750</td>\n",
       "      <td>0.466267</td>\n",
       "      <td>0.461737</td>\n",
       "      <td>0.463200</td>\n",
       "      <td>0.466267</td>\n",
       "      <td>12.9462</td>\n",
       "      <td>386.986</td>\n",
       "      <td>48.431</td>\n",
       "      <td>sw</td>\n",
       "      <td>nli_results/200k_ar_tr/models/_bert/checkpoint...</td>\n",
       "      <td>bert</td>\n",
       "    </tr>\n",
       "    <tr>\n",
       "      <th>44</th>\n",
       "      <td>1.137420</td>\n",
       "      <td>0.438723</td>\n",
       "      <td>0.435753</td>\n",
       "      <td>0.443012</td>\n",
       "      <td>0.438723</td>\n",
       "      <td>18.4867</td>\n",
       "      <td>271.006</td>\n",
       "      <td>33.916</td>\n",
       "      <td>sw</td>\n",
       "      <td>nli_results/200k_ar_tr/models/_canine_c/checkp...</td>\n",
       "      <td>canine_c</td>\n",
       "    </tr>\n",
       "  </tbody>\n",
       "</table>\n",
       "</div>"
      ],
      "text/plain": [
       "    test_loss  test_accuracy  test_f1_weighted  test_precision_weighted  \\\n",
       "0    1.060375       0.472455          0.469053                 0.469293   \n",
       "1    1.000458       0.587425          0.571682                 0.642902   \n",
       "2    1.085168       0.492615          0.485814                 0.493514   \n",
       "3    0.908508       0.594611          0.592519                 0.613616   \n",
       "4    0.848376       0.618762          0.617911                 0.636501   \n",
       "5    0.887389       0.602994          0.602307                 0.621194   \n",
       "6    1.057603       0.488623          0.480769                 0.484602   \n",
       "7    0.890555       0.612575          0.609294                 0.621283   \n",
       "8    1.074592       0.491417          0.486094                 0.489999   \n",
       "9    1.072156       0.483034          0.473682                 0.479794   \n",
       "10   0.882102       0.615170          0.613514                 0.618364   \n",
       "11   1.074601       0.502595          0.494863                 0.501146   \n",
       "12   1.067416       0.464271          0.447447                 0.455198   \n",
       "13   0.909482       0.594611          0.588775                 0.608181   \n",
       "14   1.061284       0.491617          0.482990                 0.486345   \n",
       "15   1.137362       0.448703          0.419851                 0.437646   \n",
       "16   0.947238       0.589820          0.584784                 0.601365   \n",
       "17   1.106528       0.464870          0.452820                 0.453611   \n",
       "18   1.081814       0.469860          0.462429                 0.464452   \n",
       "19   0.919524       0.582236          0.577830                 0.585093   \n",
       "20   1.060254       0.494411          0.490235                 0.491453   \n",
       "21   1.066587       0.471257          0.461722                 0.478223   \n",
       "22   0.885560       0.603593          0.602322                 0.604618   \n",
       "23   1.066005       0.495409          0.492076                 0.499986   \n",
       "24   0.874684       0.608982          0.607020                 0.627329   \n",
       "25   0.833474       0.632136          0.630637                 0.646314   \n",
       "26   0.881846       0.614770          0.612890                 0.632502   \n",
       "27   1.819412       0.344511          0.223589                 0.373311   \n",
       "28   0.887573       0.602794          0.600619                 0.605328   \n",
       "29   1.535973       0.352096          0.239929                 0.457606   \n",
       "30   1.361300       0.399800          0.349679                 0.413187   \n",
       "31   1.392531       0.417365          0.365930                 0.437372   \n",
       "32   1.179135       0.412575          0.401837                 0.425206   \n",
       "33   1.167664       0.444910          0.423647                 0.440756   \n",
       "34   0.931241       0.592216          0.586933                 0.601721   \n",
       "35   1.167763       0.457685          0.446712                 0.454905   \n",
       "36   1.346823       0.404192          0.358787                 0.408155   \n",
       "37   0.978621       0.559281          0.558169                 0.563454   \n",
       "38   1.180603       0.429541          0.420906                 0.424405   \n",
       "39   1.176206       0.428942          0.405444                 0.421876   \n",
       "40   1.005085       0.546906          0.547035                 0.550100   \n",
       "41   1.147777       0.431138          0.424150                 0.432970   \n",
       "42   1.104629       0.444711          0.440571                 0.451894   \n",
       "43   1.098750       0.466267          0.461737                 0.463200   \n",
       "44   1.137420       0.438723          0.435753                 0.443012   \n",
       "\n",
       "    test_recall_weighted  test_runtime  test_samples_per_second  \\\n",
       "0               0.472455       18.1147                  276.571   \n",
       "1               0.587425       10.2490                  488.829   \n",
       "2               0.492615       18.8172                  266.246   \n",
       "3               0.594611       16.3440                  306.535   \n",
       "4               0.618762       12.7894                  391.730   \n",
       "5               0.602994       16.1868                  309.511   \n",
       "6               0.488623       20.8189                  240.647   \n",
       "7               0.612575       11.9029                  420.907   \n",
       "8               0.491417       20.4022                  245.562   \n",
       "9               0.483034       19.4626                  257.416   \n",
       "10              0.615170       10.6801                  469.097   \n",
       "11              0.502595       19.2846                  259.792   \n",
       "12              0.464271       19.4694                  257.327   \n",
       "13              0.594611       11.3025                  443.263   \n",
       "14              0.491617       21.2351                  235.930   \n",
       "15              0.448703       21.1421                  236.968   \n",
       "16              0.589820       18.6649                  268.419   \n",
       "17              0.464870       21.4479                  233.590   \n",
       "18              0.469860       20.0621                  249.725   \n",
       "19              0.582236       14.2956                  350.457   \n",
       "20              0.494411       19.7739                  253.365   \n",
       "21              0.471257       20.2761                  247.089   \n",
       "22              0.603593       13.3306                  375.828   \n",
       "23              0.495409       20.2488                  247.422   \n",
       "24              0.608982       18.8656                  265.562   \n",
       "25              0.632136       12.4939                  400.996   \n",
       "26              0.614770       18.4240                  271.928   \n",
       "27              0.344511        8.1267                  616.490   \n",
       "28              0.602794       11.1402                  449.722   \n",
       "29              0.352096        7.7004                  650.619   \n",
       "30              0.399800       16.1190                  310.813   \n",
       "31              0.417365       22.2600                  225.068   \n",
       "32              0.412575       15.8015                  317.059   \n",
       "33              0.444910       19.2191                  260.678   \n",
       "34              0.592216       11.0741                  452.407   \n",
       "35              0.457685       18.4358                  271.754   \n",
       "36              0.404192       18.3143                  273.557   \n",
       "37              0.559281       14.9982                  334.040   \n",
       "38              0.429541       18.3312                  273.304   \n",
       "39              0.428942       17.8171                  281.190   \n",
       "40              0.546906       14.1929                  352.993   \n",
       "41              0.431138       18.0731                  277.208   \n",
       "42              0.444711       18.5075                  270.702   \n",
       "43              0.466267       12.9462                  386.986   \n",
       "44              0.438723       18.4867                  271.006   \n",
       "\n",
       "    test_steps_per_second language  \\\n",
       "0                  34.613       en   \n",
       "1                  61.177       en   \n",
       "2                  33.321       en   \n",
       "3                  38.363       ar   \n",
       "4                  49.025       ar   \n",
       "5                  38.735       ar   \n",
       "6                  30.117       fr   \n",
       "7                  52.676       fr   \n",
       "8                  30.732       fr   \n",
       "9                  32.216       es   \n",
       "10                 58.707       es   \n",
       "11                 32.513       es   \n",
       "12                 32.204       de   \n",
       "13                 55.474       de   \n",
       "14                 29.527       de   \n",
       "15                 29.657       el   \n",
       "16                 33.593       el   \n",
       "17                 29.234       el   \n",
       "18                 31.253       bg   \n",
       "19                 43.860       bg   \n",
       "20                 31.709       bg   \n",
       "21                 30.923       ru   \n",
       "22                 47.035       ru   \n",
       "23                 30.965       ru   \n",
       "24                 33.235       tr   \n",
       "25                 50.184       tr   \n",
       "26                 34.032       tr   \n",
       "27                 77.154       zh   \n",
       "28                 56.283       zh   \n",
       "29                 81.425       zh   \n",
       "30                 38.898       th   \n",
       "31                 28.167       th   \n",
       "32                 39.680       th   \n",
       "33                 32.624       vi   \n",
       "34                 56.619       vi   \n",
       "35                 34.010       vi   \n",
       "36                 34.236       hi   \n",
       "37                 41.805       hi   \n",
       "38                 34.204       hi   \n",
       "39                 35.191       ur   \n",
       "40                 44.177       ur   \n",
       "41                 34.693       ur   \n",
       "42                 33.878       sw   \n",
       "43                 48.431       sw   \n",
       "44                 33.916       sw   \n",
       "\n",
       "                                           model_path     model  \n",
       "0   nli_results/200k_ar_tr/models/_canine_s/checkp...  canine_s  \n",
       "1   nli_results/200k_ar_tr/models/_bert/checkpoint...      bert  \n",
       "2   nli_results/200k_ar_tr/models/_canine_c/checkp...  canine_c  \n",
       "3   nli_results/200k_ar_tr/models/_canine_s/checkp...  canine_s  \n",
       "4   nli_results/200k_ar_tr/models/_bert/checkpoint...      bert  \n",
       "5   nli_results/200k_ar_tr/models/_canine_c/checkp...  canine_c  \n",
       "6   nli_results/200k_ar_tr/models/_canine_s/checkp...  canine_s  \n",
       "7   nli_results/200k_ar_tr/models/_bert/checkpoint...      bert  \n",
       "8   nli_results/200k_ar_tr/models/_canine_c/checkp...  canine_c  \n",
       "9   nli_results/200k_ar_tr/models/_canine_s/checkp...  canine_s  \n",
       "10  nli_results/200k_ar_tr/models/_bert/checkpoint...      bert  \n",
       "11  nli_results/200k_ar_tr/models/_canine_c/checkp...  canine_c  \n",
       "12  nli_results/200k_ar_tr/models/_canine_s/checkp...  canine_s  \n",
       "13  nli_results/200k_ar_tr/models/_bert/checkpoint...      bert  \n",
       "14  nli_results/200k_ar_tr/models/_canine_c/checkp...  canine_c  \n",
       "15  nli_results/200k_ar_tr/models/_canine_s/checkp...  canine_s  \n",
       "16  nli_results/200k_ar_tr/models/_bert/checkpoint...      bert  \n",
       "17  nli_results/200k_ar_tr/models/_canine_c/checkp...  canine_c  \n",
       "18  nli_results/200k_ar_tr/models/_canine_s/checkp...  canine_s  \n",
       "19  nli_results/200k_ar_tr/models/_bert/checkpoint...      bert  \n",
       "20  nli_results/200k_ar_tr/models/_canine_c/checkp...  canine_c  \n",
       "21  nli_results/200k_ar_tr/models/_canine_s/checkp...  canine_s  \n",
       "22  nli_results/200k_ar_tr/models/_bert/checkpoint...      bert  \n",
       "23  nli_results/200k_ar_tr/models/_canine_c/checkp...  canine_c  \n",
       "24  nli_results/200k_ar_tr/models/_canine_s/checkp...  canine_s  \n",
       "25  nli_results/200k_ar_tr/models/_bert/checkpoint...      bert  \n",
       "26  nli_results/200k_ar_tr/models/_canine_c/checkp...  canine_c  \n",
       "27  nli_results/200k_ar_tr/models/_canine_s/checkp...  canine_s  \n",
       "28  nli_results/200k_ar_tr/models/_bert/checkpoint...      bert  \n",
       "29  nli_results/200k_ar_tr/models/_canine_c/checkp...  canine_c  \n",
       "30  nli_results/200k_ar_tr/models/_canine_s/checkp...  canine_s  \n",
       "31  nli_results/200k_ar_tr/models/_bert/checkpoint...      bert  \n",
       "32  nli_results/200k_ar_tr/models/_canine_c/checkp...  canine_c  \n",
       "33  nli_results/200k_ar_tr/models/_canine_s/checkp...  canine_s  \n",
       "34  nli_results/200k_ar_tr/models/_bert/checkpoint...      bert  \n",
       "35  nli_results/200k_ar_tr/models/_canine_c/checkp...  canine_c  \n",
       "36  nli_results/200k_ar_tr/models/_canine_s/checkp...  canine_s  \n",
       "37  nli_results/200k_ar_tr/models/_bert/checkpoint...      bert  \n",
       "38  nli_results/200k_ar_tr/models/_canine_c/checkp...  canine_c  \n",
       "39  nli_results/200k_ar_tr/models/_canine_s/checkp...  canine_s  \n",
       "40  nli_results/200k_ar_tr/models/_bert/checkpoint...      bert  \n",
       "41  nli_results/200k_ar_tr/models/_canine_c/checkp...  canine_c  \n",
       "42  nli_results/200k_ar_tr/models/_canine_s/checkp...  canine_s  \n",
       "43  nli_results/200k_ar_tr/models/_bert/checkpoint...      bert  \n",
       "44  nli_results/200k_ar_tr/models/_canine_c/checkp...  canine_c  "
      ]
     },
     "execution_count": 162,
     "metadata": {},
     "output_type": "execute_result"
    }
   ],
   "source": [
    "metrics_df"
   ]
  },
  {
   "cell_type": "code",
   "execution_count": 192,
   "metadata": {},
   "outputs": [],
   "source": [
    "metrics_df = pd.DataFrame(language_metrics)\n",
    "sub_df = metrics_df[metrics_df[\"language\"].isin([\"ar\", \"tr\", \"ur\"])]\n",
    "sub_df.rename(\n",
    "    columns={\n",
    "        \"test_loss\": \"loss\",\n",
    "        \"test_accuracy\": \"accuracy\",\n",
    "        \"test_f1_weighted\": \"f1\",\n",
    "        \"test_precision_weighted\": \"precision\",\n",
    "        \"test_recall_weighted\": \"recall\",\n",
    "        \"test_runtime\": \"runtime\",\n",
    "        \"test_samples_per_second\": \"samples_per_second\",\n",
    "    },\n",
    "    inplace=True,\n",
    ")\n",
    "data = sub_df[\n",
    "    [\"loss\", \"accuracy\", \"f1\", \"precision\", \"recall\", \"runtime\", \"samples_per_second\"]\n",
    "]\n",
    "model_names = list(sub_df[\"model\"] + \" (\" + sub_df[\"language\"] + \")\")\n",
    "sub_df[\"model_name\"] = model_names"
   ]
  },
  {
   "cell_type": "code",
   "execution_count": 182,
   "metadata": {},
   "outputs": [
    {
     "data": {
      "text/html": [
       "<div>\n",
       "<style scoped>\n",
       "    .dataframe tbody tr th:only-of-type {\n",
       "        vertical-align: middle;\n",
       "    }\n",
       "\n",
       "    .dataframe tbody tr th {\n",
       "        vertical-align: top;\n",
       "    }\n",
       "\n",
       "    .dataframe thead th {\n",
       "        text-align: right;\n",
       "    }\n",
       "</style>\n",
       "<table border=\"1\" class=\"dataframe\">\n",
       "  <thead>\n",
       "    <tr style=\"text-align: right;\">\n",
       "      <th></th>\n",
       "      <th>loss</th>\n",
       "      <th>accuracy</th>\n",
       "      <th>f1</th>\n",
       "      <th>precision</th>\n",
       "      <th>recall</th>\n",
       "      <th>runtime</th>\n",
       "      <th>samples_per_second</th>\n",
       "    </tr>\n",
       "  </thead>\n",
       "  <tbody>\n",
       "    <tr>\n",
       "      <th>3</th>\n",
       "      <td>0.908508</td>\n",
       "      <td>0.594611</td>\n",
       "      <td>0.592519</td>\n",
       "      <td>0.613616</td>\n",
       "      <td>0.594611</td>\n",
       "      <td>16.3440</td>\n",
       "      <td>306.535</td>\n",
       "    </tr>\n",
       "    <tr>\n",
       "      <th>4</th>\n",
       "      <td>0.848376</td>\n",
       "      <td>0.618762</td>\n",
       "      <td>0.617911</td>\n",
       "      <td>0.636501</td>\n",
       "      <td>0.618762</td>\n",
       "      <td>12.7894</td>\n",
       "      <td>391.730</td>\n",
       "    </tr>\n",
       "    <tr>\n",
       "      <th>5</th>\n",
       "      <td>0.887389</td>\n",
       "      <td>0.602994</td>\n",
       "      <td>0.602307</td>\n",
       "      <td>0.621194</td>\n",
       "      <td>0.602994</td>\n",
       "      <td>16.1868</td>\n",
       "      <td>309.511</td>\n",
       "    </tr>\n",
       "    <tr>\n",
       "      <th>24</th>\n",
       "      <td>0.874684</td>\n",
       "      <td>0.608982</td>\n",
       "      <td>0.607020</td>\n",
       "      <td>0.627329</td>\n",
       "      <td>0.608982</td>\n",
       "      <td>18.8656</td>\n",
       "      <td>265.562</td>\n",
       "    </tr>\n",
       "    <tr>\n",
       "      <th>25</th>\n",
       "      <td>0.833474</td>\n",
       "      <td>0.632136</td>\n",
       "      <td>0.630637</td>\n",
       "      <td>0.646314</td>\n",
       "      <td>0.632136</td>\n",
       "      <td>12.4939</td>\n",
       "      <td>400.996</td>\n",
       "    </tr>\n",
       "    <tr>\n",
       "      <th>26</th>\n",
       "      <td>0.881846</td>\n",
       "      <td>0.614770</td>\n",
       "      <td>0.612890</td>\n",
       "      <td>0.632502</td>\n",
       "      <td>0.614770</td>\n",
       "      <td>18.4240</td>\n",
       "      <td>271.928</td>\n",
       "    </tr>\n",
       "    <tr>\n",
       "      <th>39</th>\n",
       "      <td>1.176206</td>\n",
       "      <td>0.428942</td>\n",
       "      <td>0.405444</td>\n",
       "      <td>0.421876</td>\n",
       "      <td>0.428942</td>\n",
       "      <td>17.8171</td>\n",
       "      <td>281.190</td>\n",
       "    </tr>\n",
       "    <tr>\n",
       "      <th>40</th>\n",
       "      <td>1.005085</td>\n",
       "      <td>0.546906</td>\n",
       "      <td>0.547035</td>\n",
       "      <td>0.550100</td>\n",
       "      <td>0.546906</td>\n",
       "      <td>14.1929</td>\n",
       "      <td>352.993</td>\n",
       "    </tr>\n",
       "    <tr>\n",
       "      <th>41</th>\n",
       "      <td>1.147777</td>\n",
       "      <td>0.431138</td>\n",
       "      <td>0.424150</td>\n",
       "      <td>0.432970</td>\n",
       "      <td>0.431138</td>\n",
       "      <td>18.0731</td>\n",
       "      <td>277.208</td>\n",
       "    </tr>\n",
       "  </tbody>\n",
       "</table>\n",
       "</div>"
      ],
      "text/plain": [
       "        loss  accuracy        f1  precision    recall  runtime  \\\n",
       "3   0.908508  0.594611  0.592519   0.613616  0.594611  16.3440   \n",
       "4   0.848376  0.618762  0.617911   0.636501  0.618762  12.7894   \n",
       "5   0.887389  0.602994  0.602307   0.621194  0.602994  16.1868   \n",
       "24  0.874684  0.608982  0.607020   0.627329  0.608982  18.8656   \n",
       "25  0.833474  0.632136  0.630637   0.646314  0.632136  12.4939   \n",
       "26  0.881846  0.614770  0.612890   0.632502  0.614770  18.4240   \n",
       "39  1.176206  0.428942  0.405444   0.421876  0.428942  17.8171   \n",
       "40  1.005085  0.546906  0.547035   0.550100  0.546906  14.1929   \n",
       "41  1.147777  0.431138  0.424150   0.432970  0.431138  18.0731   \n",
       "\n",
       "    samples_per_second  \n",
       "3              306.535  \n",
       "4              391.730  \n",
       "5              309.511  \n",
       "24             265.562  \n",
       "25             400.996  \n",
       "26             271.928  \n",
       "39             281.190  \n",
       "40             352.993  \n",
       "41             277.208  "
      ]
     },
     "execution_count": 182,
     "metadata": {},
     "output_type": "execute_result"
    }
   ],
   "source": [
    "data"
   ]
  },
  {
   "cell_type": "code",
   "execution_count": 201,
   "metadata": {},
   "outputs": [
    {
     "data": {
      "text/html": [
       "<div>\n",
       "<style scoped>\n",
       "    .dataframe tbody tr th:only-of-type {\n",
       "        vertical-align: middle;\n",
       "    }\n",
       "\n",
       "    .dataframe tbody tr th {\n",
       "        vertical-align: top;\n",
       "    }\n",
       "\n",
       "    .dataframe thead th {\n",
       "        text-align: right;\n",
       "    }\n",
       "</style>\n",
       "<table border=\"1\" class=\"dataframe\">\n",
       "  <thead>\n",
       "    <tr style=\"text-align: right;\">\n",
       "      <th></th>\n",
       "      <th>loss</th>\n",
       "      <th>accuracy</th>\n",
       "      <th>f1</th>\n",
       "      <th>precision</th>\n",
       "      <th>recall</th>\n",
       "      <th>runtime</th>\n",
       "      <th>samples_per_second</th>\n",
       "      <th>test_steps_per_second</th>\n",
       "      <th>language</th>\n",
       "      <th>model_path</th>\n",
       "      <th>model</th>\n",
       "      <th>model_name</th>\n",
       "    </tr>\n",
       "  </thead>\n",
       "  <tbody>\n",
       "    <tr>\n",
       "      <th>3</th>\n",
       "      <td>0.908508</td>\n",
       "      <td>0.594611</td>\n",
       "      <td>0.592519</td>\n",
       "      <td>0.613616</td>\n",
       "      <td>0.594611</td>\n",
       "      <td>16.3440</td>\n",
       "      <td>306.535</td>\n",
       "      <td>38.363</td>\n",
       "      <td>ar</td>\n",
       "      <td>nli_results/200k_ar_tr/models/_canine_s/checkp...</td>\n",
       "      <td>canine_s</td>\n",
       "      <td>canine_s (ar)</td>\n",
       "    </tr>\n",
       "    <tr>\n",
       "      <th>4</th>\n",
       "      <td>0.848376</td>\n",
       "      <td>0.618762</td>\n",
       "      <td>0.617911</td>\n",
       "      <td>0.636501</td>\n",
       "      <td>0.618762</td>\n",
       "      <td>12.7894</td>\n",
       "      <td>391.730</td>\n",
       "      <td>49.025</td>\n",
       "      <td>ar</td>\n",
       "      <td>nli_results/200k_ar_tr/models/_bert/checkpoint...</td>\n",
       "      <td>bert</td>\n",
       "      <td>bert (ar)</td>\n",
       "    </tr>\n",
       "    <tr>\n",
       "      <th>5</th>\n",
       "      <td>0.887389</td>\n",
       "      <td>0.602994</td>\n",
       "      <td>0.602307</td>\n",
       "      <td>0.621194</td>\n",
       "      <td>0.602994</td>\n",
       "      <td>16.1868</td>\n",
       "      <td>309.511</td>\n",
       "      <td>38.735</td>\n",
       "      <td>ar</td>\n",
       "      <td>nli_results/200k_ar_tr/models/_canine_c/checkp...</td>\n",
       "      <td>canine_c</td>\n",
       "      <td>canine_c (ar)</td>\n",
       "    </tr>\n",
       "    <tr>\n",
       "      <th>24</th>\n",
       "      <td>0.874684</td>\n",
       "      <td>0.608982</td>\n",
       "      <td>0.607020</td>\n",
       "      <td>0.627329</td>\n",
       "      <td>0.608982</td>\n",
       "      <td>18.8656</td>\n",
       "      <td>265.562</td>\n",
       "      <td>33.235</td>\n",
       "      <td>tr</td>\n",
       "      <td>nli_results/200k_ar_tr/models/_canine_s/checkp...</td>\n",
       "      <td>canine_s</td>\n",
       "      <td>canine_s (tr)</td>\n",
       "    </tr>\n",
       "    <tr>\n",
       "      <th>25</th>\n",
       "      <td>0.833474</td>\n",
       "      <td>0.632136</td>\n",
       "      <td>0.630637</td>\n",
       "      <td>0.646314</td>\n",
       "      <td>0.632136</td>\n",
       "      <td>12.4939</td>\n",
       "      <td>400.996</td>\n",
       "      <td>50.184</td>\n",
       "      <td>tr</td>\n",
       "      <td>nli_results/200k_ar_tr/models/_bert/checkpoint...</td>\n",
       "      <td>bert</td>\n",
       "      <td>bert (tr)</td>\n",
       "    </tr>\n",
       "    <tr>\n",
       "      <th>26</th>\n",
       "      <td>0.881846</td>\n",
       "      <td>0.614770</td>\n",
       "      <td>0.612890</td>\n",
       "      <td>0.632502</td>\n",
       "      <td>0.614770</td>\n",
       "      <td>18.4240</td>\n",
       "      <td>271.928</td>\n",
       "      <td>34.032</td>\n",
       "      <td>tr</td>\n",
       "      <td>nli_results/200k_ar_tr/models/_canine_c/checkp...</td>\n",
       "      <td>canine_c</td>\n",
       "      <td>canine_c (tr)</td>\n",
       "    </tr>\n",
       "    <tr>\n",
       "      <th>39</th>\n",
       "      <td>1.176206</td>\n",
       "      <td>0.428942</td>\n",
       "      <td>0.405444</td>\n",
       "      <td>0.421876</td>\n",
       "      <td>0.428942</td>\n",
       "      <td>17.8171</td>\n",
       "      <td>281.190</td>\n",
       "      <td>35.191</td>\n",
       "      <td>ur</td>\n",
       "      <td>nli_results/200k_ar_tr/models/_canine_s/checkp...</td>\n",
       "      <td>canine_s</td>\n",
       "      <td>canine_s (ur)</td>\n",
       "    </tr>\n",
       "    <tr>\n",
       "      <th>40</th>\n",
       "      <td>1.005085</td>\n",
       "      <td>0.546906</td>\n",
       "      <td>0.547035</td>\n",
       "      <td>0.550100</td>\n",
       "      <td>0.546906</td>\n",
       "      <td>14.1929</td>\n",
       "      <td>352.993</td>\n",
       "      <td>44.177</td>\n",
       "      <td>ur</td>\n",
       "      <td>nli_results/200k_ar_tr/models/_bert/checkpoint...</td>\n",
       "      <td>bert</td>\n",
       "      <td>bert (ur)</td>\n",
       "    </tr>\n",
       "    <tr>\n",
       "      <th>41</th>\n",
       "      <td>1.147777</td>\n",
       "      <td>0.431138</td>\n",
       "      <td>0.424150</td>\n",
       "      <td>0.432970</td>\n",
       "      <td>0.431138</td>\n",
       "      <td>18.0731</td>\n",
       "      <td>277.208</td>\n",
       "      <td>34.693</td>\n",
       "      <td>ur</td>\n",
       "      <td>nli_results/200k_ar_tr/models/_canine_c/checkp...</td>\n",
       "      <td>canine_c</td>\n",
       "      <td>canine_c (ur)</td>\n",
       "    </tr>\n",
       "  </tbody>\n",
       "</table>\n",
       "</div>"
      ],
      "text/plain": [
       "        loss  accuracy        f1  precision    recall  runtime  \\\n",
       "3   0.908508  0.594611  0.592519   0.613616  0.594611  16.3440   \n",
       "4   0.848376  0.618762  0.617911   0.636501  0.618762  12.7894   \n",
       "5   0.887389  0.602994  0.602307   0.621194  0.602994  16.1868   \n",
       "24  0.874684  0.608982  0.607020   0.627329  0.608982  18.8656   \n",
       "25  0.833474  0.632136  0.630637   0.646314  0.632136  12.4939   \n",
       "26  0.881846  0.614770  0.612890   0.632502  0.614770  18.4240   \n",
       "39  1.176206  0.428942  0.405444   0.421876  0.428942  17.8171   \n",
       "40  1.005085  0.546906  0.547035   0.550100  0.546906  14.1929   \n",
       "41  1.147777  0.431138  0.424150   0.432970  0.431138  18.0731   \n",
       "\n",
       "    samples_per_second  test_steps_per_second language  \\\n",
       "3              306.535                 38.363       ar   \n",
       "4              391.730                 49.025       ar   \n",
       "5              309.511                 38.735       ar   \n",
       "24             265.562                 33.235       tr   \n",
       "25             400.996                 50.184       tr   \n",
       "26             271.928                 34.032       tr   \n",
       "39             281.190                 35.191       ur   \n",
       "40             352.993                 44.177       ur   \n",
       "41             277.208                 34.693       ur   \n",
       "\n",
       "                                           model_path     model     model_name  \n",
       "3   nli_results/200k_ar_tr/models/_canine_s/checkp...  canine_s  canine_s (ar)  \n",
       "4   nli_results/200k_ar_tr/models/_bert/checkpoint...      bert      bert (ar)  \n",
       "5   nli_results/200k_ar_tr/models/_canine_c/checkp...  canine_c  canine_c (ar)  \n",
       "24  nli_results/200k_ar_tr/models/_canine_s/checkp...  canine_s  canine_s (tr)  \n",
       "25  nli_results/200k_ar_tr/models/_bert/checkpoint...      bert      bert (tr)  \n",
       "26  nli_results/200k_ar_tr/models/_canine_c/checkp...  canine_c  canine_c (tr)  \n",
       "39  nli_results/200k_ar_tr/models/_canine_s/checkp...  canine_s  canine_s (ur)  \n",
       "40  nli_results/200k_ar_tr/models/_bert/checkpoint...      bert      bert (ur)  \n",
       "41  nli_results/200k_ar_tr/models/_canine_c/checkp...  canine_c  canine_c (ur)  "
      ]
     },
     "execution_count": 201,
     "metadata": {},
     "output_type": "execute_result"
    }
   ],
   "source": [
    "theta = [\"loss\", \"accuracy\", \"f1\", \"precision\", \"recall\"]\n",
    "sub_df[theta]\n",
    "sub_df[theta].values[0]\n",
    "sub_df"
   ]
  },
  {
   "cell_type": "code",
   "execution_count": 202,
   "metadata": {},
   "outputs": [],
   "source": [
    "theta = [\"loss\", \"accuracy\", \"f1\", \"precision\", \"recall\"]\n",
    "fig = px.line_polar(sub_df, r=sub_df[theta].values[0], theta=theta, line_close=True)"
   ]
  },
  {
   "cell_type": "code",
   "execution_count": null,
   "metadata": {},
   "outputs": [],
   "source": [
    "fig.show()"
   ]
  },
  {
   "cell_type": "code",
   "execution_count": null,
   "metadata": {},
   "outputs": [],
   "source": [
    "fig = px.line_polar(sub_df, r=\"r\", theta=\"theta\", line_close=True)\n",
    "fig.show()"
   ]
  },
  {
   "cell_type": "code",
   "execution_count": 177,
   "metadata": {},
   "outputs": [
    {
     "data": {
      "image/png": "[encoded data removed]",
      "text/plain": [
       "<Figure size 640x480 with 8 Axes>"
      ]
     },
     "metadata": {},
     "output_type": "display_data"
    }
   ],
   "source": [
    "plot = radar_plot(data=data, model_names=model_names, invert_range=[\"loss\", \"runtime\"])\n",
    "plot.show()"
   ]
  },
  {
   "cell_type": "code",
   "execution_count": null,
   "metadata": {},
   "outputs": [],
   "source": [
    "# data = [\n",
    "#     {\"accuracy\": 0.99, \"precision\": 0.8, \"f1\": 0.95, \"latency_in_seconds\": 33.6},\n",
    "#     {\"accuracy\": 0.98, \"precision\": 0.87, \"f1\": 0.91, \"latency_in_seconds\": 11.2},\n",
    "#     {\"accuracy\": 0.98, \"precision\": 0.78, \"f1\": 0.88, \"latency_in_seconds\": 87.6},\n",
    "#     {\"accuracy\": 0.88, \"precision\": 0.78, \"f1\": 0.81, \"latency_in_seconds\": 101.6},\n",
    "# ]\n",
    "# model_names = [\"Model 1\", \"Model 2\", \"Model 3\", \"Model 4\"]"
   ]
  },
  {
   "cell_type": "code",
   "execution_count": 112,
   "metadata": {},
   "outputs": [],
   "source": [
    "trainer = Trainer(\n",
    "    model=model,\n",
    "    compute_metrics=compute_metrics,\n",
    "    tokenizer=tokenizer,\n",
    ")"
   ]
  },
  {
   "cell_type": "code",
   "execution_count": null,
   "metadata": {},
   "outputs": [],
   "source": [
    "predictions, label_ids, metrics = trainer.predict(tdataset)"
   ]
  },
  {
   "cell_type": "code",
   "execution_count": 122,
   "metadata": {},
   "outputs": [],
   "source": [
    "metrics[\"language\"] = language\n",
    "metrics[\"model_path\"] = model_path\n",
    "metrics[\"model\"] = model_path.split(\"/\")[-2].strip(\"_\")"
   ]
  },
  {
   "cell_type": "code",
   "execution_count": 125,
   "metadata": {},
   "outputs": [
    {
     "data": {
      "text/html": [
       "<div>\n",
       "<style scoped>\n",
       "    .dataframe tbody tr th:only-of-type {\n",
       "        vertical-align: middle;\n",
       "    }\n",
       "\n",
       "    .dataframe tbody tr th {\n",
       "        vertical-align: top;\n",
       "    }\n",
       "\n",
       "    .dataframe thead th {\n",
       "        text-align: right;\n",
       "    }\n",
       "</style>\n",
       "<table border=\"1\" class=\"dataframe\">\n",
       "  <thead>\n",
       "    <tr style=\"text-align: right;\">\n",
       "      <th></th>\n",
       "      <th>test_loss</th>\n",
       "      <th>test_accuracy</th>\n",
       "      <th>test_f1_weighted</th>\n",
       "      <th>test_precision_weighted</th>\n",
       "      <th>test_recall_weighted</th>\n",
       "      <th>test_runtime</th>\n",
       "      <th>test_samples_per_second</th>\n",
       "      <th>test_steps_per_second</th>\n",
       "      <th>language</th>\n",
       "      <th>model</th>\n",
       "      <th>model_path</th>\n",
       "    </tr>\n",
       "  </thead>\n",
       "  <tbody>\n",
       "    <tr>\n",
       "      <th>0</th>\n",
       "      <td>0.887389</td>\n",
       "      <td>0.602994</td>\n",
       "      <td>0.602307</td>\n",
       "      <td>0.621194</td>\n",
       "      <td>0.602994</td>\n",
       "      <td>18.5304</td>\n",
       "      <td>270.367</td>\n",
       "      <td>33.836</td>\n",
       "      <td>ar</td>\n",
       "      <td>canine_c</td>\n",
       "      <td>nli_results/200k_ar_tr/models/_canine_c/checkp...</td>\n",
       "    </tr>\n",
       "    <tr>\n",
       "      <th>1</th>\n",
       "      <td>0.887389</td>\n",
       "      <td>0.602994</td>\n",
       "      <td>0.602307</td>\n",
       "      <td>0.621194</td>\n",
       "      <td>0.602994</td>\n",
       "      <td>18.5304</td>\n",
       "      <td>270.367</td>\n",
       "      <td>33.836</td>\n",
       "      <td>ar</td>\n",
       "      <td>canine_c</td>\n",
       "      <td>nli_results/200k_ar_tr/models/_canine_c/checkp...</td>\n",
       "    </tr>\n",
       "  </tbody>\n",
       "</table>\n",
       "</div>"
      ],
      "text/plain": [
       "   test_loss  test_accuracy  test_f1_weighted  test_precision_weighted  \\\n",
       "0   0.887389       0.602994          0.602307                 0.621194   \n",
       "1   0.887389       0.602994          0.602307                 0.621194   \n",
       "\n",
       "   test_recall_weighted  test_runtime  test_samples_per_second  \\\n",
       "0              0.602994       18.5304                  270.367   \n",
       "1              0.602994       18.5304                  270.367   \n",
       "\n",
       "   test_steps_per_second language     model  \\\n",
       "0                 33.836       ar  canine_c   \n",
       "1                 33.836       ar  canine_c   \n",
       "\n",
       "                                          model_path  \n",
       "0  nli_results/200k_ar_tr/models/_canine_c/checkp...  \n",
       "1  nli_results/200k_ar_tr/models/_canine_c/checkp...  "
      ]
     },
     "execution_count": 125,
     "metadata": {},
     "output_type": "execute_result"
    }
   ],
   "source": [
    "pd.DataFrame([metrics] * 2)"
   ]
  },
  {
   "cell_type": "code",
   "execution_count": null,
   "metadata": {},
   "outputs": [],
   "source": []
  },
  {
   "cell_type": "code",
   "execution_count": 99,
   "metadata": {},
   "outputs": [
    {
     "data": {
      "text/plain": [
       "tensor([0, 1, 2, 1, 0, 1, 2, 0])"
      ]
     },
     "execution_count": 99,
     "metadata": {},
     "output_type": "execute_result"
    }
   ],
   "source": [
    "model(**examples).logits.argmax(dim=1)"
   ]
  },
  {
   "cell_type": "code",
   "execution_count": 32,
   "metadata": {},
   "outputs": [],
   "source": [
    "def trainer_state_to_df(trainer_state):\n",
    "    df = pd.DataFrame(trainer_state[\"log_history\"])\n",
    "    # create a column that states if it is a training or an evaluation or a test run, using the fact that loss is NaN for evaluation and test, eval_loss is NaN for training and test, and eval_accuracy is NaN for training and test, an that train_runtime is not nan for test\n",
    "    df[\"run_type\"] = \"train\"\n",
    "    df.loc[df[\"eval_loss\"].notna(), \"run_type\"] = \"eval\"\n",
    "    df.loc[df[\"train_runtime\"].notna(), \"run_type\"] = \"test\"\n",
    "    return df"
   ]
  },
  {
   "cell_type": "code",
   "execution_count": 33,
   "metadata": {},
   "outputs": [],
   "source": [
    "df = trainer_state_to_df(trainer_state)"
   ]
  },
  {
   "attachments": {},
   "cell_type": "markdown",
   "metadata": {},
   "source": [
    "## Second part"
   ]
  },
  {
   "cell_type": "code",
   "execution_count": 2,
   "metadata": {},
   "outputs": [],
   "source": [
    "exp_dir = \"nli_results/200k_ar_tr\"\n",
    "\n",
    "language_subset = [\n",
    "    \"en\",\n",
    "    \"ar\",\n",
    "    \"fr\",\n",
    "    \"es\",\n",
    "    \"de\",\n",
    "    \"el\",\n",
    "    \"bg\",\n",
    "    \"ru\",\n",
    "    \"tr\",\n",
    "    \"zh\",\n",
    "    \"th\",\n",
    "    \"vi\",\n",
    "    \"hi\",\n",
    "    \"ur\",\n",
    "    \"sw\",\n",
    "]\n",
    "\n",
    "language_to_abbr = {\n",
    "    \"English\": \"en\",\n",
    "    \"Arabic\": \"ar\",\n",
    "    \"French\": \"fr\",\n",
    "    \"Spanish\": \"es\",\n",
    "    \"German\": \"de\",\n",
    "    \"Greek\": \"el\",\n",
    "    \"Bulgarian\": \"bg\",\n",
    "    \"Russian\": \"ru\",\n",
    "    \"Turkish\": \"tr\",\n",
    "    \"Chinese\": \"zh\",\n",
    "    \"Thai\": \"th\",\n",
    "    \"Vietnamese\": \"vi\",\n",
    "    \"Hindi\": \"hi\",\n",
    "    \"Urdu\": \"ur\",\n",
    "    \"Swahili\": \"sw\",\n",
    "}\n",
    "abbr_to_language = {v: k for k, v in language_to_abbr.items()}\n",
    "abbr_to_model = {\"bert\": \"BERT\", \"canine_s\": \"Canine-S\", \"canine_c\": \"Canine-C\"}\n",
    "model_to_abbr = {v: k for k, v in abbr_to_model.items()}\n",
    "\n",
    "trainer_states = glob.glob(f\"{exp_dir}/models/**/trainer_state.json\")\n",
    "metric_df = pd.read_csv(f\"{exp_dir}/results/metrics.csv\")\n",
    "metric_df['language'] = metric_df['language'].map(abbr_to_language)\n",
    "metric_df['model'] = metric_df['model'].map(abbr_to_model)"
   ]
  },
  {
   "cell_type": "code",
   "execution_count": 3,
   "metadata": {},
   "outputs": [],
   "source": [
    "with open(trainer_states[0]) as f:\n",
    "    state = json.load(f)"
   ]
  },
  {
   "cell_type": "code",
   "execution_count": 9,
   "metadata": {},
   "outputs": [
    {
     "data": {
      "text/html": [
       "<div>\n",
       "<style scoped>\n",
       "    .dataframe tbody tr th:only-of-type {\n",
       "        vertical-align: middle;\n",
       "    }\n",
       "\n",
       "    .dataframe tbody tr th {\n",
       "        vertical-align: top;\n",
       "    }\n",
       "\n",
       "    .dataframe thead th {\n",
       "        text-align: right;\n",
       "    }\n",
       "</style>\n",
       "<table border=\"1\" class=\"dataframe\">\n",
       "  <thead>\n",
       "    <tr style=\"text-align: right;\">\n",
       "      <th></th>\n",
       "      <th>loss</th>\n",
       "      <th>accuracy</th>\n",
       "      <th>f1</th>\n",
       "      <th>precision</th>\n",
       "      <th>recall</th>\n",
       "      <th>runtime</th>\n",
       "      <th>samples_per_second</th>\n",
       "      <th>test_steps_per_second</th>\n",
       "      <th>language</th>\n",
       "      <th>model_path</th>\n",
       "      <th>model</th>\n",
       "    </tr>\n",
       "  </thead>\n",
       "  <tbody>\n",
       "    <tr>\n",
       "      <th>0</th>\n",
       "      <td>1.060375</td>\n",
       "      <td>0.472455</td>\n",
       "      <td>0.469053</td>\n",
       "      <td>0.469293</td>\n",
       "      <td>0.472455</td>\n",
       "      <td>18.4388</td>\n",
       "      <td>271.709</td>\n",
       "      <td>34.004</td>\n",
       "      <td>en</td>\n",
       "      <td>nli_results/200k_ar_tr/models/_canine_s/checkp...</td>\n",
       "      <td>canine_s</td>\n",
       "    </tr>\n",
       "    <tr>\n",
       "      <th>1</th>\n",
       "      <td>1.000458</td>\n",
       "      <td>0.587425</td>\n",
       "      <td>0.571682</td>\n",
       "      <td>0.642902</td>\n",
       "      <td>0.587425</td>\n",
       "      <td>9.3287</td>\n",
       "      <td>537.055</td>\n",
       "      <td>67.212</td>\n",
       "      <td>en</td>\n",
       "      <td>nli_results/200k_ar_tr/models/_bert/checkpoint...</td>\n",
       "      <td>bert</td>\n",
       "    </tr>\n",
       "    <tr>\n",
       "      <th>2</th>\n",
       "      <td>1.085168</td>\n",
       "      <td>0.492615</td>\n",
       "      <td>0.485814</td>\n",
       "      <td>0.493514</td>\n",
       "      <td>0.492615</td>\n",
       "      <td>17.4213</td>\n",
       "      <td>287.579</td>\n",
       "      <td>35.990</td>\n",
       "      <td>en</td>\n",
       "      <td>nli_results/200k_ar_tr/models/_canine_c/checkp...</td>\n",
       "      <td>canine_c</td>\n",
       "    </tr>\n",
       "  </tbody>\n",
       "</table>\n",
       "</div>"
      ],
      "text/plain": [
       "       loss  accuracy        f1  precision    recall  runtime  \\\n",
       "0  1.060375  0.472455  0.469053   0.469293  0.472455  18.4388   \n",
       "1  1.000458  0.587425  0.571682   0.642902  0.587425   9.3287   \n",
       "2  1.085168  0.492615  0.485814   0.493514  0.492615  17.4213   \n",
       "\n",
       "   samples_per_second  test_steps_per_second language  \\\n",
       "0             271.709                 34.004       en   \n",
       "1             537.055                 67.212       en   \n",
       "2             287.579                 35.990       en   \n",
       "\n",
       "                                          model_path     model  \n",
       "0  nli_results/200k_ar_tr/models/_canine_s/checkp...  canine_s  \n",
       "1  nli_results/200k_ar_tr/models/_bert/checkpoint...      bert  \n",
       "2  nli_results/200k_ar_tr/models/_canine_c/checkp...  canine_c  "
      ]
     },
     "execution_count": 9,
     "metadata": {},
     "output_type": "execute_result"
    }
   ],
   "source": [
    "metric_df.query(\"language == 'en'\") # model == 'canine_s' and language == 'en'\")"
   ]
  },
  {
   "cell_type": "code",
   "execution_count": 4,
   "metadata": {},
   "outputs": [],
   "source": [
    "import seaborn as sns\n",
    "import matplotlib.pyplot as plt\n",
    "\n",
    "sns.set_theme(style=\"white\", context=\"paper\", palette=\"deep\", font=\"sans-serif\", font_scale=1.5)"
   ]
  },
  {
   "cell_type": "code",
   "execution_count": 5,
   "metadata": {},
   "outputs": [],
   "source": [
    "exp_name = '200k_ar'\n",
    "num, languages = exp_name.split(\"_\")[0][:-1], \", \".join(exp_name.split(\"_\")[1:])"
   ]
  },
  {
   "cell_type": "code",
   "execution_count": 139,
   "metadata": {},
   "outputs": [
    {
     "data": {
      "application/vnd.plotly.v1+json": {
       "config": {
        "plotlyServerURL": "https://plot.ly"
       },
       "data": [
        {
         "alignmentgroup": "True",
         "boxpoints": "all",
         "customdata": [
          [
           "English",
           1.060374736785889,
           0.4724550898203593,
           0.4692929490691871,
           0.4724550898203593,
           18.4388,
           271.709
          ],
          [
           "English",
           1.0004576444625854,
           0.5874251497005988,
           0.6429017915001487,
           0.5874251497005988,
           9.3287,
           537.055
          ],
          [
           "English",
           1.0851675271987915,
           0.4926147704590818,
           0.4935136079797161,
           0.4926147704590818,
           17.4213,
           287.579
          ],
          [
           "Arabic",
           0.9085077047348022,
           0.5946107784431137,
           0.6136158298108204,
           0.5946107784431137,
           15.5438,
           322.314
          ],
          [
           "Arabic",
           0.8483759164810181,
           0.6187624750499002,
           0.6365011761530822,
           0.6187624750499002,
           12.1724,
           411.588
          ],
          [
           "Arabic",
           0.8873894810676575,
           0.6029940119760479,
           0.6211939214310193,
           0.6029940119760479,
           15.515,
           322.914
          ],
          [
           "French",
           1.0576034784317017,
           0.4886227544910179,
           0.4846020558161442,
           0.4886227544910179,
           19.8913,
           251.869
          ],
          [
           "French",
           0.8905548453330994,
           0.6125748502994012,
           0.6212832607818234,
           0.6125748502994012,
           11.3136,
           442.83
          ],
          [
           "French",
           1.0745916366577148,
           0.4914171656686626,
           0.4899992022449557,
           0.4914171656686626,
           19.834,
           252.597
          ],
          [
           "Spanish",
           1.0721560716629028,
           0.4830339321357285,
           0.4797941377704423,
           0.4830339321357285,
           19.0362,
           263.183
          ],
          [
           "Spanish",
           0.8821020126342773,
           0.6151696606786428,
           0.618363854042735,
           0.6151696606786428,
           10.3387,
           484.587
          ],
          [
           "Spanish",
           1.0746009349822998,
           0.5025948103792415,
           0.5011456607376077,
           0.5025948103792415,
           19.0693,
           262.726
          ],
          [
           "German",
           1.067416071891785,
           0.4642714570858283,
           0.4551977187258626,
           0.4642714570858283,
           19.5981,
           255.637
          ],
          [
           "German",
           0.9094824194908142,
           0.5946107784431137,
           0.6081814944876669,
           0.5946107784431137,
           10.6781,
           469.187
          ],
          [
           "German",
           1.061283826828003,
           0.4916167664670658,
           0.486344940773351,
           0.4916167664670658,
           19.5891,
           255.755
          ],
          [
           "Greek",
           1.1373618841171265,
           0.4487025948103792,
           0.4376455793155148,
           0.4487025948103792,
           19.5917,
           255.721
          ],
          [
           "Greek",
           0.9472377300262452,
           0.5898203592814372,
           0.6013648626090464,
           0.5898203592814372,
           17.0942,
           293.082
          ],
          [
           "Greek",
           1.1065278053283691,
           0.4648702594810379,
           0.4536114446403192,
           0.4648702594810379,
           19.5839,
           255.823
          ],
          [
           "Bulgarian",
           1.0818140506744385,
           0.4698602794411177,
           0.4644521536024646,
           0.4698602794411177,
           18.3013,
           273.751
          ],
          [
           "Bulgarian",
           0.9195244312286376,
           0.5822355289421157,
           0.5850930898351253,
           0.5822355289421157,
           13.0683,
           383.37
          ],
          [
           "Bulgarian",
           1.060254454612732,
           0.4944111776447106,
           0.4914526872998102,
           0.4944111776447106,
           18.2759,
           274.131
          ],
          [
           "Russian",
           1.0665870904922483,
           0.4712574850299401,
           0.4782228430323226,
           0.4712574850299401,
           18.5691,
           269.803
          ],
          [
           "Russian",
           0.8855597376823425,
           0.6035928143712574,
           0.6046178858525378,
           0.6035928143712574,
           12.1896,
           411.005
          ],
          [
           "Russian",
           1.0660053491592407,
           0.4954091816367265,
           0.4999855209406866,
           0.4954091816367265,
           18.5544,
           270.017
          ],
          [
           "Turkish",
           0.8746839165687561,
           0.6089820359281437,
           0.6273286229486188,
           0.6089820359281437,
           17.4412,
           287.251
          ],
          [
           "Turkish",
           0.8334739804267883,
           0.6321357285429142,
           0.6463135888569826,
           0.6321357285429142,
           11.4921,
           435.95
          ],
          [
           "Turkish",
           0.8818457126617432,
           0.6147704590818364,
           0.6325016253694966,
           0.6147704590818364,
           17.3981,
           287.962
          ],
          [
           "Chinese",
           1.8194119930267332,
           0.3445109780439122,
           0.3733109622320091,
           0.3445109780439122,
           7.6271,
           656.867
          ],
          [
           "Chinese",
           0.8875725269317627,
           0.6027944111776448,
           0.6053284567071711,
           0.6027944111776448,
           11.2141,
           446.757
          ],
          [
           "Chinese",
           1.535973310470581,
           0.3520958083832335,
           0.4576060954507981,
           0.3520958083832335,
           7.4647,
           671.158
          ],
          [
           "Thai",
           1.3612995147705078,
           0.3998003992015968,
           0.4131869192432034,
           0.3998003992015968,
           16.3036,
           307.293
          ],
          [
           "Thai",
           1.392530918121338,
           0.4173652694610778,
           0.4373722219808411,
           0.4173652694610778,
           21.585,
           232.106
          ],
          [
           "Thai",
           1.1791354417800903,
           0.4125748502994012,
           0.4252063131979785,
           0.4125748502994012,
           16.3257,
           306.877
          ],
          [
           "Vietnamese",
           1.16766357421875,
           0.4449101796407185,
           0.4407559812583416,
           0.4449101796407185,
           18.2722,
           274.188
          ],
          [
           "Vietnamese",
           0.931240737438202,
           0.5922155688622754,
           0.6017206204667425,
           0.5922155688622754,
           10.9308,
           458.337
          ],
          [
           "Vietnamese",
           1.1677627563476562,
           0.4576846307385229,
           0.4549047357998884,
           0.4576846307385229,
           18.253,
           274.476
          ],
          [
           "Hindi",
           1.3468233346939087,
           0.4041916167664671,
           0.4081549463665371,
           0.4041916167664671,
           17.619,
           284.352
          ],
          [
           "Hindi",
           0.9786213636398317,
           0.5592814371257485,
           0.5634538466817757,
           0.5592814371257485,
           14.4368,
           347.03
          ],
          [
           "Hindi",
           1.18060302734375,
           0.4295409181636727,
           0.4244054733551149,
           0.4295409181636727,
           17.5991,
           284.674
          ],
          [
           "Urdu",
           1.1762062311172483,
           0.4289421157684631,
           0.4218756317254025,
           0.4289421157684631,
           17.181,
           291.602
          ],
          [
           "Urdu",
           1.0050852298736572,
           0.5469061876247505,
           0.550100271436787,
           0.5469061876247505,
           13.5484,
           369.787
          ],
          [
           "Urdu",
           1.1477769613265991,
           0.4311377245508982,
           0.4329702214389455,
           0.4311377245508982,
           17.2139,
           291.044
          ],
          [
           "Swahili",
           1.104628562927246,
           0.4447105788423153,
           0.4518939667480366,
           0.4447105788423153,
           17.591,
           284.805
          ],
          [
           "Swahili",
           1.098750352859497,
           0.4662674650698603,
           0.4631995130397424,
           0.4662674650698603,
           12.196,
           410.79
          ],
          [
           "Swahili",
           1.137420415878296,
           0.4387225548902195,
           0.4430120008677827,
           0.4387225548902195,
           17.5726,
           285.103
          ]
         ],
         "hovertemplate": "<b>Language</b>: %{customdata[0]}<br><b>F1</b>: %{y:.2f}<br><b>Loss</b>: %{customdata[1]:.2f}<br><b>Accuracy</b>: %{customdata[2]:.2f}<br><b>Precision</b>: %{customdata[3]:.2f}<br><b>Recall</b>: %{customdata[4]:.2f}<br><b>Runtime</b>: %{customdata[5]:.2f}<br><b>Samples per second</b>: %{customdata[6]:.0f}<br><extra></extra>",
         "legendgroup": "",
         "marker": {
          "color": "#636efa"
         },
         "name": "",
         "notched": false,
         "offsetgroup": "",
         "orientation": "v",
         "showlegend": false,
         "type": "box",
         "x": [
          "Canine-S",
          "BERT",
          "Canine-C",
          "Canine-S",
          "BERT",
          "Canine-C",
          "Canine-S",
          "BERT",
          "Canine-C",
          "Canine-S",
          "BERT",
          "Canine-C",
          "Canine-S",
          "BERT",
          "Canine-C",
          "Canine-S",
          "BERT",
          "Canine-C",
          "Canine-S",
          "BERT",
          "Canine-C",
          "Canine-S",
          "BERT",
          "Canine-C",
          "Canine-S",
          "BERT",
          "Canine-C",
          "Canine-S",
          "BERT",
          "Canine-C",
          "Canine-S",
          "BERT",
          "Canine-C",
          "Canine-S",
          "BERT",
          "Canine-C",
          "Canine-S",
          "BERT",
          "Canine-C",
          "Canine-S",
          "BERT",
          "Canine-C",
          "Canine-S",
          "BERT",
          "Canine-C"
         ],
         "x0": " ",
         "xaxis": "x",
         "y": [
          0.4690526573278067,
          0.5716817132373746,
          0.4858139670045602,
          0.5925191736915721,
          0.6179108692255875,
          0.6023069247404648,
          0.480769204066438,
          0.609293963482963,
          0.4860941943815853,
          0.4736822836357748,
          0.6135135512245345,
          0.4948634955615916,
          0.4474473928881128,
          0.5887748828431533,
          0.4829901468717159,
          0.419850619927078,
          0.5847837785893847,
          0.4528196087380727,
          0.4624294092641571,
          0.5778295816479186,
          0.4902354596062614,
          0.4617218843290113,
          0.6023219571128866,
          0.4920758341700494,
          0.6070203177314539,
          0.6306371205491171,
          0.6128898534509912,
          0.2235889209556266,
          0.6006193242560198,
          0.2399288785944875,
          0.3496791683256516,
          0.3659297333342472,
          0.4018374982487784,
          0.4236467868664579,
          0.586933346451782,
          0.4467118160588794,
          0.3587870728981906,
          0.5581686233127777,
          0.4209058699591634,
          0.4054442329672674,
          0.54703547527682,
          0.424149885941675,
          0.4405708554820117,
          0.4617368869704089,
          0.4357528089869903
         ],
         "y0": " ",
         "yaxis": "y"
        }
       ],
       "layout": {
        "boxmode": "group",
        "height": 600,
        "legend": {
         "tracegroupgap": 0
        },
        "margin": {
         "t": 60
        },
        "template": {
         "data": {
          "bar": [
           {
            "error_x": {
             "color": "#2a3f5f"
            },
            "error_y": {
             "color": "#2a3f5f"
            },
            "marker": {
             "line": {
              "color": "#E5ECF6",
              "width": 0.5
             },
             "pattern": {
              "fillmode": "overlay",
              "size": 10,
              "solidity": 0.2
             }
            },
            "type": "bar"
           }
          ],
          "barpolar": [
           {
            "marker": {
             "line": {
              "color": "#E5ECF6",
              "width": 0.5
             },
             "pattern": {
              "fillmode": "overlay",
              "size": 10,
              "solidity": 0.2
             }
            },
            "type": "barpolar"
           }
          ],
          "carpet": [
           {
            "aaxis": {
             "endlinecolor": "#2a3f5f",
             "gridcolor": "white",
             "linecolor": "white",
             "minorgridcolor": "white",
             "startlinecolor": "#2a3f5f"
            },
            "baxis": {
             "endlinecolor": "#2a3f5f",
             "gridcolor": "white",
             "linecolor": "white",
             "minorgridcolor": "white",
             "startlinecolor": "#2a3f5f"
            },
            "type": "carpet"
           }
          ],
          "choropleth": [
           {
            "colorbar": {
             "outlinewidth": 0,
             "ticks": ""
            },
            "type": "choropleth"
           }
          ],
          "contour": [
           {
            "colorbar": {
             "outlinewidth": 0,
             "ticks": ""
            },
            "colorscale": [
             [
              0,
              "#0d0887"
             ],
             [
              0.1111111111111111,
              "#46039f"
             ],
             [
              0.2222222222222222,
              "#7201a8"
             ],
             [
              0.3333333333333333,
              "#9c179e"
             ],
             [
              0.4444444444444444,
              "#bd3786"
             ],
             [
              0.5555555555555556,
              "#d8576b"
             ],
             [
              0.6666666666666666,
              "#ed7953"
             ],
             [
              0.7777777777777778,
              "#fb9f3a"
             ],
             [
              0.8888888888888888,
              "#fdca26"
             ],
             [
              1,
              "#f0f921"
             ]
            ],
            "type": "contour"
           }
          ],
          "contourcarpet": [
           {
            "colorbar": {
             "outlinewidth": 0,
             "ticks": ""
            },
            "type": "contourcarpet"
           }
          ],
          "heatmap": [
           {
            "colorbar": {
             "outlinewidth": 0,
             "ticks": ""
            },
            "colorscale": [
             [
              0,
              "#0d0887"
             ],
             [
              0.1111111111111111,
              "#46039f"
             ],
             [
              0.2222222222222222,
              "#7201a8"
             ],
             [
              0.3333333333333333,
              "#9c179e"
             ],
             [
              0.4444444444444444,
              "#bd3786"
             ],
             [
              0.5555555555555556,
              "#d8576b"
             ],
             [
              0.6666666666666666,
              "#ed7953"
             ],
             [
              0.7777777777777778,
              "#fb9f3a"
             ],
             [
              0.8888888888888888,
              "#fdca26"
             ],
             [
              1,
              "#f0f921"
             ]
            ],
            "type": "heatmap"
           }
          ],
          "heatmapgl": [
           {
            "colorbar": {
             "outlinewidth": 0,
             "ticks": ""
            },
            "colorscale": [
             [
              0,
              "#0d0887"
             ],
             [
              0.1111111111111111,
              "#46039f"
             ],
             [
              0.2222222222222222,
              "#7201a8"
             ],
             [
              0.3333333333333333,
              "#9c179e"
             ],
             [
              0.4444444444444444,
              "#bd3786"
             ],
             [
              0.5555555555555556,
              "#d8576b"
             ],
             [
              0.6666666666666666,
              "#ed7953"
             ],
             [
              0.7777777777777778,
              "#fb9f3a"
             ],
             [
              0.8888888888888888,
              "#fdca26"
             ],
             [
              1,
              "#f0f921"
             ]
            ],
            "type": "heatmapgl"
           }
          ],
          "histogram": [
           {
            "marker": {
             "pattern": {
              "fillmode": "overlay",
              "size": 10,
              "solidity": 0.2
             }
            },
            "type": "histogram"
           }
          ],
          "histogram2d": [
           {
            "colorbar": {
             "outlinewidth": 0,
             "ticks": ""
            },
            "colorscale": [
             [
              0,
              "#0d0887"
             ],
             [
              0.1111111111111111,
              "#46039f"
             ],
             [
              0.2222222222222222,
              "#7201a8"
             ],
             [
              0.3333333333333333,
              "#9c179e"
             ],
             [
              0.4444444444444444,
              "#bd3786"
             ],
             [
              0.5555555555555556,
              "#d8576b"
             ],
             [
              0.6666666666666666,
              "#ed7953"
             ],
             [
              0.7777777777777778,
              "#fb9f3a"
             ],
             [
              0.8888888888888888,
              "#fdca26"
             ],
             [
              1,
              "#f0f921"
             ]
            ],
            "type": "histogram2d"
           }
          ],
          "histogram2dcontour": [
           {
            "colorbar": {
             "outlinewidth": 0,
             "ticks": ""
            },
            "colorscale": [
             [
              0,
              "#0d0887"
             ],
             [
              0.1111111111111111,
              "#46039f"
             ],
             [
              0.2222222222222222,
              "#7201a8"
             ],
             [
              0.3333333333333333,
              "#9c179e"
             ],
             [
              0.4444444444444444,
              "#bd3786"
             ],
             [
              0.5555555555555556,
              "#d8576b"
             ],
             [
              0.6666666666666666,
              "#ed7953"
             ],
             [
              0.7777777777777778,
              "#fb9f3a"
             ],
             [
              0.8888888888888888,
              "#fdca26"
             ],
             [
              1,
              "#f0f921"
             ]
            ],
            "type": "histogram2dcontour"
           }
          ],
          "mesh3d": [
           {
            "colorbar": {
             "outlinewidth": 0,
             "ticks": ""
            },
            "type": "mesh3d"
           }
          ],
          "parcoords": [
           {
            "line": {
             "colorbar": {
              "outlinewidth": 0,
              "ticks": ""
             }
            },
            "type": "parcoords"
           }
          ],
          "pie": [
           {
            "automargin": true,
            "type": "pie"
           }
          ],
          "scatter": [
           {
            "fillpattern": {
             "fillmode": "overlay",
             "size": 10,
             "solidity": 0.2
            },
            "type": "scatter"
           }
          ],
          "scatter3d": [
           {
            "line": {
             "colorbar": {
              "outlinewidth": 0,
              "ticks": ""
             }
            },
            "marker": {
             "colorbar": {
              "outlinewidth": 0,
              "ticks": ""
             }
            },
            "type": "scatter3d"
           }
          ],
          "scattercarpet": [
           {
            "marker": {
             "colorbar": {
              "outlinewidth": 0,
              "ticks": ""
             }
            },
            "type": "scattercarpet"
           }
          ],
          "scattergeo": [
           {
            "marker": {
             "colorbar": {
              "outlinewidth": 0,
              "ticks": ""
             }
            },
            "type": "scattergeo"
           }
          ],
          "scattergl": [
           {
            "marker": {
             "colorbar": {
              "outlinewidth": 0,
              "ticks": ""
             }
            },
            "type": "scattergl"
           }
          ],
          "scattermapbox": [
           {
            "marker": {
             "colorbar": {
              "outlinewidth": 0,
              "ticks": ""
             }
            },
            "type": "scattermapbox"
           }
          ],
          "scatterpolar": [
           {
            "marker": {
             "colorbar": {
              "outlinewidth": 0,
              "ticks": ""
             }
            },
            "type": "scatterpolar"
           }
          ],
          "scatterpolargl": [
           {
            "marker": {
             "colorbar": {
              "outlinewidth": 0,
              "ticks": ""
             }
            },
            "type": "scatterpolargl"
           }
          ],
          "scatterternary": [
           {
            "marker": {
             "colorbar": {
              "outlinewidth": 0,
              "ticks": ""
             }
            },
            "type": "scatterternary"
           }
          ],
          "surface": [
           {
            "colorbar": {
             "outlinewidth": 0,
             "ticks": ""
            },
            "colorscale": [
             [
              0,
              "#0d0887"
             ],
             [
              0.1111111111111111,
              "#46039f"
             ],
             [
              0.2222222222222222,
              "#7201a8"
             ],
             [
              0.3333333333333333,
              "#9c179e"
             ],
             [
              0.4444444444444444,
              "#bd3786"
             ],
             [
              0.5555555555555556,
              "#d8576b"
             ],
             [
              0.6666666666666666,
              "#ed7953"
             ],
             [
              0.7777777777777778,
              "#fb9f3a"
             ],
             [
              0.8888888888888888,
              "#fdca26"
             ],
             [
              1,
              "#f0f921"
             ]
            ],
            "type": "surface"
           }
          ],
          "table": [
           {
            "cells": {
             "fill": {
              "color": "#EBF0F8"
             },
             "line": {
              "color": "white"
             }
            },
            "header": {
             "fill": {
              "color": "#C8D4E3"
             },
             "line": {
              "color": "white"
             }
            },
            "type": "table"
           }
          ]
         },
         "layout": {
          "annotationdefaults": {
           "arrowcolor": "#2a3f5f",
           "arrowhead": 0,
           "arrowwidth": 1
          },
          "autotypenumbers": "strict",
          "coloraxis": {
           "colorbar": {
            "outlinewidth": 0,
            "ticks": ""
           }
          },
          "colorscale": {
           "diverging": [
            [
             0,
             "#8e0152"
            ],
            [
             0.1,
             "#c51b7d"
            ],
            [
             0.2,
             "#de77ae"
            ],
            [
             0.3,
             "#f1b6da"
            ],
            [
             0.4,
             "#fde0ef"
            ],
            [
             0.5,
             "#f7f7f7"
            ],
            [
             0.6,
             "#e6f5d0"
            ],
            [
             0.7,
             "#b8e186"
            ],
            [
             0.8,
             "#7fbc41"
            ],
            [
             0.9,
             "#4d9221"
            ],
            [
             1,
             "#276419"
            ]
           ],
           "sequential": [
            [
             0,
             "#0d0887"
            ],
            [
             0.1111111111111111,
             "#46039f"
            ],
            [
             0.2222222222222222,
             "#7201a8"
            ],
            [
             0.3333333333333333,
             "#9c179e"
            ],
            [
             0.4444444444444444,
             "#bd3786"
            ],
            [
             0.5555555555555556,
             "#d8576b"
            ],
            [
             0.6666666666666666,
             "#ed7953"
            ],
            [
             0.7777777777777778,
             "#fb9f3a"
            ],
            [
             0.8888888888888888,
             "#fdca26"
            ],
            [
             1,
             "#f0f921"
            ]
           ],
           "sequentialminus": [
            [
             0,
             "#0d0887"
            ],
            [
             0.1111111111111111,
             "#46039f"
            ],
            [
             0.2222222222222222,
             "#7201a8"
            ],
            [
             0.3333333333333333,
             "#9c179e"
            ],
            [
             0.4444444444444444,
             "#bd3786"
            ],
            [
             0.5555555555555556,
             "#d8576b"
            ],
            [
             0.6666666666666666,
             "#ed7953"
            ],
            [
             0.7777777777777778,
             "#fb9f3a"
            ],
            [
             0.8888888888888888,
             "#fdca26"
            ],
            [
             1,
             "#f0f921"
            ]
           ]
          },
          "colorway": [
           "#636efa",
           "#EF553B",
           "#00cc96",
           "#ab63fa",
           "#FFA15A",
           "#19d3f3",
           "#FF6692",
           "#B6E880",
           "#FF97FF",
           "#FECB52"
          ],
          "font": {
           "color": "#2a3f5f"
          },
          "geo": {
           "bgcolor": "white",
           "lakecolor": "white",
           "landcolor": "#E5ECF6",
           "showlakes": true,
           "showland": true,
           "subunitcolor": "white"
          },
          "hoverlabel": {
           "align": "left"
          },
          "hovermode": "closest",
          "mapbox": {
           "style": "light"
          },
          "paper_bgcolor": "white",
          "plot_bgcolor": "#E5ECF6",
          "polar": {
           "angularaxis": {
            "gridcolor": "white",
            "linecolor": "white",
            "ticks": ""
           },
           "bgcolor": "#E5ECF6",
           "radialaxis": {
            "gridcolor": "white",
            "linecolor": "white",
            "ticks": ""
           }
          },
          "scene": {
           "xaxis": {
            "backgroundcolor": "#E5ECF6",
            "gridcolor": "white",
            "gridwidth": 2,
            "linecolor": "white",
            "showbackground": true,
            "ticks": "",
            "zerolinecolor": "white"
           },
           "yaxis": {
            "backgroundcolor": "#E5ECF6",
            "gridcolor": "white",
            "gridwidth": 2,
            "linecolor": "white",
            "showbackground": true,
            "ticks": "",
            "zerolinecolor": "white"
           },
           "zaxis": {
            "backgroundcolor": "#E5ECF6",
            "gridcolor": "white",
            "gridwidth": 2,
            "linecolor": "white",
            "showbackground": true,
            "ticks": "",
            "zerolinecolor": "white"
           }
          },
          "shapedefaults": {
           "line": {
            "color": "#2a3f5f"
           }
          },
          "ternary": {
           "aaxis": {
            "gridcolor": "white",
            "linecolor": "white",
            "ticks": ""
           },
           "baxis": {
            "gridcolor": "white",
            "linecolor": "white",
            "ticks": ""
           },
           "bgcolor": "#E5ECF6",
           "caxis": {
            "gridcolor": "white",
            "linecolor": "white",
            "ticks": ""
           }
          },
          "title": {
           "x": 0.05
          },
          "xaxis": {
           "automargin": true,
           "gridcolor": "white",
           "linecolor": "white",
           "ticks": "",
           "title": {
            "standoff": 15
           },
           "zerolinecolor": "white",
           "zerolinewidth": 2
          },
          "yaxis": {
           "automargin": true,
           "gridcolor": "white",
           "linecolor": "white",
           "ticks": "",
           "title": {
            "standoff": 15
           },
           "zerolinecolor": "white",
           "zerolinewidth": 2
          }
         }
        },
        "title": {
         "text": "Metrics boxplot (200k ar)"
        },
        "width": 800,
        "xaxis": {
         "anchor": "y",
         "domain": [
          0,
          1
         ],
         "title": {
          "text": "Model"
         }
        },
        "yaxis": {
         "anchor": "x",
         "domain": [
          0,
          1
         ],
         "title": {
          "text": "F1"
         }
        }
       }
      }
     },
     "metadata": {},
     "output_type": "display_data"
    },
    {
     "data": {
      "text/html": [
       "<pre style=\"white-space:pre;overflow-x:auto;line-height:normal;font-family:Menlo,'DejaVu Sans Mono',consolas,'Courier New',monospace\"><span style=\"color: #800000; text-decoration-color: #800000\">╭─────────────────────────────── </span><span style=\"color: #800000; text-decoration-color: #800000; font-weight: bold\">Traceback </span><span style=\"color: #bf7f7f; text-decoration-color: #bf7f7f; font-weight: bold\">(most recent call last)</span><span style=\"color: #800000; text-decoration-color: #800000\"> ────────────────────────────────╮</span>\n",
       "<span style=\"color: #800000; text-decoration-color: #800000\">│</span> in <span style=\"color: #00ff00; text-decoration-color: #00ff00\">&lt;module&gt;</span>:<span style=\"color: #0000ff; text-decoration-color: #0000ff\">26</span>                                                                                   <span style=\"color: #800000; text-decoration-color: #800000\">│</span>\n",
       "<span style=\"color: #800000; text-decoration-color: #800000\">│</span>                                                                                                  <span style=\"color: #800000; text-decoration-color: #800000\">│</span>\n",
       "<span style=\"color: #800000; text-decoration-color: #800000\">│</span>   <span style=\"color: #7f7f7f; text-decoration-color: #7f7f7f\">23 </span>)                                                                                           <span style=\"color: #800000; text-decoration-color: #800000\">│</span>\n",
       "<span style=\"color: #800000; text-decoration-color: #800000\">│</span>   <span style=\"color: #7f7f7f; text-decoration-color: #7f7f7f\">24 </span>                                                                                            <span style=\"color: #800000; text-decoration-color: #800000\">│</span>\n",
       "<span style=\"color: #800000; text-decoration-color: #800000\">│</span>   <span style=\"color: #7f7f7f; text-decoration-color: #7f7f7f\">25 </span>fig.show()                                                                                  <span style=\"color: #800000; text-decoration-color: #800000\">│</span>\n",
       "<span style=\"color: #800000; text-decoration-color: #800000\">│</span> <span style=\"color: #800000; text-decoration-color: #800000\">❱ </span>26 fig.write_image(<span style=\"color: #808000; text-decoration-color: #808000\">f\"nli_results/{</span>exp_name<span style=\"color: #808000; text-decoration-color: #808000\">}/results/boxplot_metrics.pdf\"</span>)                      <span style=\"color: #800000; text-decoration-color: #800000\">│</span>\n",
       "<span style=\"color: #800000; text-decoration-color: #800000\">│</span>   <span style=\"color: #7f7f7f; text-decoration-color: #7f7f7f\">27 </span>fig.write_html(<span style=\"color: #808000; text-decoration-color: #808000\">f\"nli_results/{</span>exp_name<span style=\"color: #808000; text-decoration-color: #808000\">}/results/boxplot_metrics.html\"</span>)                      <span style=\"color: #800000; text-decoration-color: #800000\">│</span>\n",
       "<span style=\"color: #800000; text-decoration-color: #800000\">│</span>   <span style=\"color: #7f7f7f; text-decoration-color: #7f7f7f\">28 </span>                                                                                            <span style=\"color: #800000; text-decoration-color: #800000\">│</span>\n",
       "<span style=\"color: #800000; text-decoration-color: #800000\">│</span>                                                                                                  <span style=\"color: #800000; text-decoration-color: #800000\">│</span>\n",
       "<span style=\"color: #800000; text-decoration-color: #800000\">│</span> <span style=\"color: #bfbf7f; text-decoration-color: #bfbf7f\">/home/gwatk/.cache/pypoetry/virtualenvs/mva-snlp-canine-JqMbT94n-py3.10/lib/python3.10/site-pack</span> <span style=\"color: #800000; text-decoration-color: #800000\">│</span>\n",
       "<span style=\"color: #800000; text-decoration-color: #800000\">│</span> <span style=\"color: #bfbf7f; text-decoration-color: #bfbf7f\">ages/plotly/</span><span style=\"color: #808000; text-decoration-color: #808000; font-weight: bold\">basedatatypes.py</span>:<span style=\"color: #0000ff; text-decoration-color: #0000ff\">3821</span> in <span style=\"color: #00ff00; text-decoration-color: #00ff00\">write_image</span>                                                 <span style=\"color: #800000; text-decoration-color: #800000\">│</span>\n",
       "<span style=\"color: #800000; text-decoration-color: #800000\">│</span>                                                                                                  <span style=\"color: #800000; text-decoration-color: #800000\">│</span>\n",
       "<span style=\"color: #800000; text-decoration-color: #800000\">│</span>   <span style=\"color: #7f7f7f; text-decoration-color: #7f7f7f\">3818 </span><span style=\"color: #bfbf7f; text-decoration-color: #bfbf7f\">│   │   </span><span style=\"color: #808000; text-decoration-color: #808000\">\"\"\"</span>                                                                               <span style=\"color: #800000; text-decoration-color: #800000\">│</span>\n",
       "<span style=\"color: #800000; text-decoration-color: #800000\">│</span>   <span style=\"color: #7f7f7f; text-decoration-color: #7f7f7f\">3819 │   │   </span><span style=\"color: #0000ff; text-decoration-color: #0000ff\">import</span> <span style=\"color: #00ffff; text-decoration-color: #00ffff; text-decoration: underline\">plotly.io</span> <span style=\"color: #0000ff; text-decoration-color: #0000ff\">as</span> <span style=\"color: #00ffff; text-decoration-color: #00ffff; text-decoration: underline\">pio</span>                                                           <span style=\"color: #800000; text-decoration-color: #800000\">│</span>\n",
       "<span style=\"color: #800000; text-decoration-color: #800000\">│</span>   <span style=\"color: #7f7f7f; text-decoration-color: #7f7f7f\">3820 │   │   </span>                                                                                  <span style=\"color: #800000; text-decoration-color: #800000\">│</span>\n",
       "<span style=\"color: #800000; text-decoration-color: #800000\">│</span> <span style=\"color: #800000; text-decoration-color: #800000\">❱ </span>3821 <span style=\"color: #7f7f7f; text-decoration-color: #7f7f7f\">│   │   </span><span style=\"color: #0000ff; text-decoration-color: #0000ff\">return</span> pio.write_image(<span style=\"color: #00ffff; text-decoration-color: #00ffff\">self</span>, *args, **kwargs)                                     <span style=\"color: #800000; text-decoration-color: #800000\">│</span>\n",
       "<span style=\"color: #800000; text-decoration-color: #800000\">│</span>   <span style=\"color: #7f7f7f; text-decoration-color: #7f7f7f\">3822 │   </span>                                                                                      <span style=\"color: #800000; text-decoration-color: #800000\">│</span>\n",
       "<span style=\"color: #800000; text-decoration-color: #800000\">│</span>   <span style=\"color: #7f7f7f; text-decoration-color: #7f7f7f\">3823 │   # Static helpers</span>                                                                      <span style=\"color: #800000; text-decoration-color: #800000\">│</span>\n",
       "<span style=\"color: #800000; text-decoration-color: #800000\">│</span>   <span style=\"color: #7f7f7f; text-decoration-color: #7f7f7f\">3824 │   # --------------</span>                                                                      <span style=\"color: #800000; text-decoration-color: #800000\">│</span>\n",
       "<span style=\"color: #800000; text-decoration-color: #800000\">│</span>                                                                                                  <span style=\"color: #800000; text-decoration-color: #800000\">│</span>\n",
       "<span style=\"color: #800000; text-decoration-color: #800000\">│</span> <span style=\"color: #bfbf7f; text-decoration-color: #bfbf7f\">/home/gwatk/.cache/pypoetry/virtualenvs/mva-snlp-canine-JqMbT94n-py3.10/lib/python3.10/site-pack</span> <span style=\"color: #800000; text-decoration-color: #800000\">│</span>\n",
       "<span style=\"color: #800000; text-decoration-color: #800000\">│</span> <span style=\"color: #bfbf7f; text-decoration-color: #bfbf7f\">ages/plotly/io/</span><span style=\"color: #808000; text-decoration-color: #808000; font-weight: bold\">_kaleido.py</span>:<span style=\"color: #0000ff; text-decoration-color: #0000ff\">267</span> in <span style=\"color: #00ff00; text-decoration-color: #00ff00\">write_image</span>                                                    <span style=\"color: #800000; text-decoration-color: #800000\">│</span>\n",
       "<span style=\"color: #800000; text-decoration-color: #800000\">│</span>                                                                                                  <span style=\"color: #800000; text-decoration-color: #800000\">│</span>\n",
       "<span style=\"color: #800000; text-decoration-color: #800000\">│</span>   <span style=\"color: #7f7f7f; text-decoration-color: #7f7f7f\">264 │   # Request image</span>                                                                        <span style=\"color: #800000; text-decoration-color: #800000\">│</span>\n",
       "<span style=\"color: #800000; text-decoration-color: #800000\">│</span>   <span style=\"color: #7f7f7f; text-decoration-color: #7f7f7f\">265 │   # -------------</span>                                                                        <span style=\"color: #800000; text-decoration-color: #800000\">│</span>\n",
       "<span style=\"color: #800000; text-decoration-color: #800000\">│</span>   <span style=\"color: #7f7f7f; text-decoration-color: #7f7f7f\">266 │   # Do this first so we don't create a file if image conversion fails</span>                    <span style=\"color: #800000; text-decoration-color: #800000\">│</span>\n",
       "<span style=\"color: #800000; text-decoration-color: #800000\">│</span> <span style=\"color: #800000; text-decoration-color: #800000\">❱ </span>267 <span style=\"color: #7f7f7f; text-decoration-color: #7f7f7f\">│   </span>img_data = to_image(                                                                   <span style=\"color: #800000; text-decoration-color: #800000\">│</span>\n",
       "<span style=\"color: #800000; text-decoration-color: #800000\">│</span>   <span style=\"color: #7f7f7f; text-decoration-color: #7f7f7f\">268 │   │   </span>fig,                                                                               <span style=\"color: #800000; text-decoration-color: #800000\">│</span>\n",
       "<span style=\"color: #800000; text-decoration-color: #800000\">│</span>   <span style=\"color: #7f7f7f; text-decoration-color: #7f7f7f\">269 │   │   </span><span style=\"color: #00ffff; text-decoration-color: #00ffff\">format</span>=<span style=\"color: #00ffff; text-decoration-color: #00ffff\">format</span>,                                                                     <span style=\"color: #800000; text-decoration-color: #800000\">│</span>\n",
       "<span style=\"color: #800000; text-decoration-color: #800000\">│</span>   <span style=\"color: #7f7f7f; text-decoration-color: #7f7f7f\">270 │   │   </span>scale=scale,                                                                       <span style=\"color: #800000; text-decoration-color: #800000\">│</span>\n",
       "<span style=\"color: #800000; text-decoration-color: #800000\">│</span>                                                                                                  <span style=\"color: #800000; text-decoration-color: #800000\">│</span>\n",
       "<span style=\"color: #800000; text-decoration-color: #800000\">│</span> <span style=\"color: #bfbf7f; text-decoration-color: #bfbf7f\">/home/gwatk/.cache/pypoetry/virtualenvs/mva-snlp-canine-JqMbT94n-py3.10/lib/python3.10/site-pack</span> <span style=\"color: #800000; text-decoration-color: #800000\">│</span>\n",
       "<span style=\"color: #800000; text-decoration-color: #800000\">│</span> <span style=\"color: #bfbf7f; text-decoration-color: #bfbf7f\">ages/plotly/io/</span><span style=\"color: #808000; text-decoration-color: #808000; font-weight: bold\">_kaleido.py</span>:<span style=\"color: #0000ff; text-decoration-color: #0000ff\">133</span> in <span style=\"color: #00ff00; text-decoration-color: #00ff00\">to_image</span>                                                       <span style=\"color: #800000; text-decoration-color: #800000\">│</span>\n",
       "<span style=\"color: #800000; text-decoration-color: #800000\">│</span>                                                                                                  <span style=\"color: #800000; text-decoration-color: #800000\">│</span>\n",
       "<span style=\"color: #800000; text-decoration-color: #800000\">│</span>   <span style=\"color: #7f7f7f; text-decoration-color: #7f7f7f\">130 │   </span>                                                                                       <span style=\"color: #800000; text-decoration-color: #800000\">│</span>\n",
       "<span style=\"color: #800000; text-decoration-color: #800000\">│</span>   <span style=\"color: #7f7f7f; text-decoration-color: #7f7f7f\">131 │   # Raise informative error message if Kaleido is not installed</span>                          <span style=\"color: #800000; text-decoration-color: #800000\">│</span>\n",
       "<span style=\"color: #800000; text-decoration-color: #800000\">│</span>   <span style=\"color: #7f7f7f; text-decoration-color: #7f7f7f\">132 │   </span><span style=\"color: #0000ff; text-decoration-color: #0000ff\">if</span> scope <span style=\"color: #ff00ff; text-decoration-color: #ff00ff\">is</span> <span style=\"color: #0000ff; text-decoration-color: #0000ff\">None</span>:                                                                      <span style=\"color: #800000; text-decoration-color: #800000\">│</span>\n",
       "<span style=\"color: #800000; text-decoration-color: #800000\">│</span> <span style=\"color: #800000; text-decoration-color: #800000\">❱ </span>133 <span style=\"color: #7f7f7f; text-decoration-color: #7f7f7f\">│   │   </span><span style=\"color: #0000ff; text-decoration-color: #0000ff\">raise</span> <span style=\"color: #00ffff; text-decoration-color: #00ffff\">ValueError</span>(                                                                  <span style=\"color: #800000; text-decoration-color: #800000\">│</span>\n",
       "<span style=\"color: #800000; text-decoration-color: #800000\">│</span>   <span style=\"color: #7f7f7f; text-decoration-color: #7f7f7f\">134 </span><span style=\"color: #bfbfbf; text-decoration-color: #bfbfbf\">│   │   │   </span><span style=\"color: #808000; text-decoration-color: #808000\">\"\"\"</span>                                                                            <span style=\"color: #800000; text-decoration-color: #800000\">│</span>\n",
       "<span style=\"color: #800000; text-decoration-color: #800000\">│</span>   <span style=\"color: #7f7f7f; text-decoration-color: #7f7f7f\">135 </span><span style=\"color: #808000; text-decoration-color: #808000\">Image export using the \"kaleido\" engine requires the kaleido package,</span>                      <span style=\"color: #800000; text-decoration-color: #800000\">│</span>\n",
       "<span style=\"color: #800000; text-decoration-color: #800000\">│</span>   <span style=\"color: #7f7f7f; text-decoration-color: #7f7f7f\">136 </span><span style=\"color: #808000; text-decoration-color: #808000\">which can be installed using pip:</span>                                                          <span style=\"color: #800000; text-decoration-color: #800000\">│</span>\n",
       "<span style=\"color: #800000; text-decoration-color: #800000\">╰──────────────────────────────────────────────────────────────────────────────────────────────────╯</span>\n",
       "<span style=\"color: #ff0000; text-decoration-color: #ff0000; font-weight: bold\">ValueError: </span>\n",
       "Image export using the <span style=\"color: #008000; text-decoration-color: #008000\">\"kaleido\"</span> engine requires the kaleido package,\n",
       "which can be installed using pip:\n",
       "    $ pip install -U kaleido\n",
       "\n",
       "</pre>\n"
      ],
      "text/plain": [
       "\u001b[31m╭─\u001b[0m\u001b[31m──────────────────────────────\u001b[0m\u001b[31m \u001b[0m\u001b[1;31mTraceback \u001b[0m\u001b[1;2;31m(most recent call last)\u001b[0m\u001b[31m \u001b[0m\u001b[31m───────────────────────────────\u001b[0m\u001b[31m─╮\u001b[0m\n",
       "\u001b[31m│\u001b[0m in \u001b[92m<module>\u001b[0m:\u001b[94m26\u001b[0m                                                                                   \u001b[31m│\u001b[0m\n",
       "\u001b[31m│\u001b[0m                                                                                                  \u001b[31m│\u001b[0m\n",
       "\u001b[31m│\u001b[0m   \u001b[2m23 \u001b[0m)                                                                                           \u001b[31m│\u001b[0m\n",
       "\u001b[31m│\u001b[0m   \u001b[2m24 \u001b[0m                                                                                            \u001b[31m│\u001b[0m\n",
       "\u001b[31m│\u001b[0m   \u001b[2m25 \u001b[0mfig.show()                                                                                  \u001b[31m│\u001b[0m\n",
       "\u001b[31m│\u001b[0m \u001b[31m❱ \u001b[0m26 fig.write_image(\u001b[33mf\u001b[0m\u001b[33m\"\u001b[0m\u001b[33mnli_results/\u001b[0m\u001b[33m{\u001b[0mexp_name\u001b[33m}\u001b[0m\u001b[33m/results/boxplot_metrics.pdf\u001b[0m\u001b[33m\"\u001b[0m)                      \u001b[31m│\u001b[0m\n",
       "\u001b[31m│\u001b[0m   \u001b[2m27 \u001b[0mfig.write_html(\u001b[33mf\u001b[0m\u001b[33m\"\u001b[0m\u001b[33mnli_results/\u001b[0m\u001b[33m{\u001b[0mexp_name\u001b[33m}\u001b[0m\u001b[33m/results/boxplot_metrics.html\u001b[0m\u001b[33m\"\u001b[0m)                      \u001b[31m│\u001b[0m\n",
       "\u001b[31m│\u001b[0m   \u001b[2m28 \u001b[0m                                                                                            \u001b[31m│\u001b[0m\n",
       "\u001b[31m│\u001b[0m                                                                                                  \u001b[31m│\u001b[0m\n",
       "\u001b[31m│\u001b[0m \u001b[2;33m/home/gwatk/.cache/pypoetry/virtualenvs/mva-snlp-canine-JqMbT94n-py3.10/lib/python3.10/site-pack\u001b[0m \u001b[31m│\u001b[0m\n",
       "\u001b[31m│\u001b[0m \u001b[2;33mages/plotly/\u001b[0m\u001b[1;33mbasedatatypes.py\u001b[0m:\u001b[94m3821\u001b[0m in \u001b[92mwrite_image\u001b[0m                                                 \u001b[31m│\u001b[0m\n",
       "\u001b[31m│\u001b[0m                                                                                                  \u001b[31m│\u001b[0m\n",
       "\u001b[31m│\u001b[0m   \u001b[2m3818 \u001b[0m\u001b[2;33m│   │   \u001b[0m\u001b[33m\"\"\"\u001b[0m                                                                               \u001b[31m│\u001b[0m\n",
       "\u001b[31m│\u001b[0m   \u001b[2m3819 \u001b[0m\u001b[2m│   │   \u001b[0m\u001b[94mimport\u001b[0m \u001b[4;96mplotly\u001b[0m\u001b[4;96m.\u001b[0m\u001b[4;96mio\u001b[0m \u001b[94mas\u001b[0m \u001b[4;96mpio\u001b[0m                                                           \u001b[31m│\u001b[0m\n",
       "\u001b[31m│\u001b[0m   \u001b[2m3820 \u001b[0m\u001b[2m│   │   \u001b[0m                                                                                  \u001b[31m│\u001b[0m\n",
       "\u001b[31m│\u001b[0m \u001b[31m❱ \u001b[0m3821 \u001b[2m│   │   \u001b[0m\u001b[94mreturn\u001b[0m pio.write_image(\u001b[96mself\u001b[0m, *args, **kwargs)                                     \u001b[31m│\u001b[0m\n",
       "\u001b[31m│\u001b[0m   \u001b[2m3822 \u001b[0m\u001b[2m│   \u001b[0m                                                                                      \u001b[31m│\u001b[0m\n",
       "\u001b[31m│\u001b[0m   \u001b[2m3823 \u001b[0m\u001b[2m│   \u001b[0m\u001b[2m# Static helpers\u001b[0m                                                                      \u001b[31m│\u001b[0m\n",
       "\u001b[31m│\u001b[0m   \u001b[2m3824 \u001b[0m\u001b[2m│   \u001b[0m\u001b[2m# --------------\u001b[0m                                                                      \u001b[31m│\u001b[0m\n",
       "\u001b[31m│\u001b[0m                                                                                                  \u001b[31m│\u001b[0m\n",
       "\u001b[31m│\u001b[0m \u001b[2;33m/home/gwatk/.cache/pypoetry/virtualenvs/mva-snlp-canine-JqMbT94n-py3.10/lib/python3.10/site-pack\u001b[0m \u001b[31m│\u001b[0m\n",
       "\u001b[31m│\u001b[0m \u001b[2;33mages/plotly/io/\u001b[0m\u001b[1;33m_kaleido.py\u001b[0m:\u001b[94m267\u001b[0m in \u001b[92mwrite_image\u001b[0m                                                    \u001b[31m│\u001b[0m\n",
       "\u001b[31m│\u001b[0m                                                                                                  \u001b[31m│\u001b[0m\n",
       "\u001b[31m│\u001b[0m   \u001b[2m264 \u001b[0m\u001b[2m│   \u001b[0m\u001b[2m# Request image\u001b[0m                                                                        \u001b[31m│\u001b[0m\n",
       "\u001b[31m│\u001b[0m   \u001b[2m265 \u001b[0m\u001b[2m│   \u001b[0m\u001b[2m# -------------\u001b[0m                                                                        \u001b[31m│\u001b[0m\n",
       "\u001b[31m│\u001b[0m   \u001b[2m266 \u001b[0m\u001b[2m│   \u001b[0m\u001b[2m# Do this first so we don't create a file if image conversion fails\u001b[0m                    \u001b[31m│\u001b[0m\n",
       "\u001b[31m│\u001b[0m \u001b[31m❱ \u001b[0m267 \u001b[2m│   \u001b[0mimg_data = to_image(                                                                   \u001b[31m│\u001b[0m\n",
       "\u001b[31m│\u001b[0m   \u001b[2m268 \u001b[0m\u001b[2m│   │   \u001b[0mfig,                                                                               \u001b[31m│\u001b[0m\n",
       "\u001b[31m│\u001b[0m   \u001b[2m269 \u001b[0m\u001b[2m│   │   \u001b[0m\u001b[96mformat\u001b[0m=\u001b[96mformat\u001b[0m,                                                                     \u001b[31m│\u001b[0m\n",
       "\u001b[31m│\u001b[0m   \u001b[2m270 \u001b[0m\u001b[2m│   │   \u001b[0mscale=scale,                                                                       \u001b[31m│\u001b[0m\n",
       "\u001b[31m│\u001b[0m                                                                                                  \u001b[31m│\u001b[0m\n",
       "\u001b[31m│\u001b[0m \u001b[2;33m/home/gwatk/.cache/pypoetry/virtualenvs/mva-snlp-canine-JqMbT94n-py3.10/lib/python3.10/site-pack\u001b[0m \u001b[31m│\u001b[0m\n",
       "\u001b[31m│\u001b[0m \u001b[2;33mages/plotly/io/\u001b[0m\u001b[1;33m_kaleido.py\u001b[0m:\u001b[94m133\u001b[0m in \u001b[92mto_image\u001b[0m                                                       \u001b[31m│\u001b[0m\n",
       "\u001b[31m│\u001b[0m                                                                                                  \u001b[31m│\u001b[0m\n",
       "\u001b[31m│\u001b[0m   \u001b[2m130 \u001b[0m\u001b[2m│   \u001b[0m                                                                                       \u001b[31m│\u001b[0m\n",
       "\u001b[31m│\u001b[0m   \u001b[2m131 \u001b[0m\u001b[2m│   \u001b[0m\u001b[2m# Raise informative error message if Kaleido is not installed\u001b[0m                          \u001b[31m│\u001b[0m\n",
       "\u001b[31m│\u001b[0m   \u001b[2m132 \u001b[0m\u001b[2m│   \u001b[0m\u001b[94mif\u001b[0m scope \u001b[95mis\u001b[0m \u001b[94mNone\u001b[0m:                                                                      \u001b[31m│\u001b[0m\n",
       "\u001b[31m│\u001b[0m \u001b[31m❱ \u001b[0m133 \u001b[2m│   │   \u001b[0m\u001b[94mraise\u001b[0m \u001b[96mValueError\u001b[0m(                                                                  \u001b[31m│\u001b[0m\n",
       "\u001b[31m│\u001b[0m   \u001b[2m134 \u001b[0m\u001b[2;90m│   │   │   \u001b[0m\u001b[33m\"\"\"\u001b[0m                                                                            \u001b[31m│\u001b[0m\n",
       "\u001b[31m│\u001b[0m   \u001b[2m135 \u001b[0m\u001b[33mImage export using the \"kaleido\" engine requires the kaleido package,\u001b[0m                      \u001b[31m│\u001b[0m\n",
       "\u001b[31m│\u001b[0m   \u001b[2m136 \u001b[0m\u001b[33mwhich can be installed using pip:\u001b[0m                                                          \u001b[31m│\u001b[0m\n",
       "\u001b[31m╰──────────────────────────────────────────────────────────────────────────────────────────────────╯\u001b[0m\n",
       "\u001b[1;91mValueError: \u001b[0m\n",
       "Image export using the \u001b[32m\"kaleido\"\u001b[0m engine requires the kaleido package,\n",
       "which can be installed using pip:\n",
       "    $ pip install -U kaleido\n",
       "\n"
      ]
     },
     "metadata": {},
     "output_type": "display_data"
    }
   ],
   "source": [
    "import plotly.express as px\n",
    "\n",
    "fig = px.box(metric_df, x=\"model\", y=\"f1\", points=\"all\",\n",
    "             hover_data=[\"language\", \"loss\", \"accuracy\", \"precision\", \"recall\", \"runtime\", \"samples_per_second\"])\n",
    "\n",
    "fig.update_layout(\n",
    "    title=f\"Metrics boxplot ({num}k {languages})\",\n",
    "    xaxis_title=\"Model\",\n",
    "    yaxis_title=\"F1\",\n",
    "    height=600,\n",
    "    width=800,\n",
    ")\n",
    "fig.update_traces(\n",
    "    hovertemplate=\"<b>Language</b>: %{customdata[0]}<br>\" +\n",
    "                    \"<b>F1</b>: %{y:.2f}<br>\" +\n",
    "                    \"<b>Loss</b>: %{customdata[1]:.2f}<br>\" +\n",
    "                    \"<b>Accuracy</b>: %{customdata[2]:.2f}<br>\" +\n",
    "                    \"<b>Precision</b>: %{customdata[3]:.2f}<br>\" +\n",
    "                    \"<b>Recall</b>: %{customdata[4]:.2f}<br>\" +\n",
    "                    \"<b>Runtime</b>: %{customdata[5]:.2f}<br>\" +\n",
    "                    \"<b>Samples per second</b>: %{customdata[6]:.0f}<br>\" +\n",
    "                    \"<extra></extra>\",\n",
    ")\n",
    "\n",
    "fig.show()\n",
    "fig.write_image(f\"nli_results/{exp_name}/results/boxplot_metrics.pdf\")\n",
    "fig.write_html(f\"nli_results/{exp_name}/results/boxplot_metrics.html\")"
   ]
  },
  {
   "cell_type": "code",
   "execution_count": 145,
   "metadata": {},
   "outputs": [],
   "source": [
    "%load_ext autoreload\n",
    "%autoreload 2"
   ]
  },
  {
   "cell_type": "code",
   "execution_count": 7,
   "metadata": {},
   "outputs": [],
   "source": [
    "from mva_snlp_canine.nli.visualise_results import visualise_exp"
   ]
  },
  {
   "cell_type": "code",
   "execution_count": 8,
   "metadata": {},
   "outputs": [
    {
     "name": "stdout",
     "output_type": "stream",
     "text": [
      "--- Barplot saved to ./nli_results/200k_ar_tr/results/barplot_metrics.pdf ---\n",
      "--- Boxplot saved to ./nli_results/200k_ar_tr/results/boxplot_metrics.pdf ---\n"
     ]
    }
   ],
   "source": [
    "visualise_exp(\"200k_ar_tr\")"
   ]
  },
  {
   "cell_type": "code",
   "execution_count": 105,
   "metadata": {},
   "outputs": [
    {
     "data": {
      "text/plain": [
       "<Axes: xlabel='model', ylabel='f1'>"
      ]
     },
     "execution_count": 105,
     "metadata": {},
     "output_type": "execute_result"
    },
    {
     "data": {
      "image/png": "[encoded data removed]",
      "text/plain": [
       "<Figure size 640x480 with 1 Axes>"
      ]
     },
     "metadata": {},
     "output_type": "display_data"
    }
   ],
   "source": [
    "sns.boxplot(data=metric_df, x=\"model\", y=\"f1\", linewidth=1)"
   ]
  },
  {
   "cell_type": "code",
   "execution_count": 68,
   "metadata": {},
   "outputs": [
    {
     "data": {
      "image/png": "[encoded data removed]",
      "text/plain": [
       "<Figure size 700x700 with 1 Axes>"
      ]
     },
     "metadata": {},
     "output_type": "display_data"
    }
   ],
   "source": [
    "num = 200\n",
    "languages = \"ar tr\"\n",
    "\n",
    "fig, ax = plt.subplots(figsize=(7, 7))\n",
    "sns.barplot(metric_df, y=\"accuracy\", x=\"language\", hue=\"model\", ax=ax)\n",
    "ax.set(xlabel=\"Language\", ylabel=\"Accuracy\", title=f\"({num}k {languages})\")\n",
    "ax.legend(loc=\"upper left\", title=\"Model\", bbox_to_anchor=(1, 1), ncol=1)\n",
    "ax.set_xticklabels(ax.get_xticklabels(), rotation=45, horizontalalignment=\"right\")\n",
    "fig.suptitle(\"Accuracy by Language and Model\")\n",
    "fig.tight_layout();"
   ]
  },
  {
   "cell_type": "code",
   "execution_count": 84,
   "metadata": {},
   "outputs": [],
   "source": [
    "sub = metric_df.query(\"language == 'English'\")\n",
    "data = sub[[\"loss\", \"accuracy\", \"f1\", \"precision\", \"recall\", \"runtime\"]]\n",
    "model_names = list(sub[\"model\"] + \" (\" + sub[\"language\"] + \")\")"
   ]
  },
  {
   "cell_type": "code",
   "execution_count": 85,
   "metadata": {},
   "outputs": [
    {
     "name": "stderr",
     "output_type": "stream",
     "text": [
      "/tmp/ipykernel_1006611/928613808.py:2: UserWarning: Matplotlib is currently using module://matplotlib_inline.backend_inline, which is a non-GUI backend, so cannot show the figure.\n",
      "  plot.show()\n"
     ]
    },
    {
     "data": {
      "image/png": "[encoded data removed]",
      "text/plain": [
       "<Figure size 640x480 with 7 Axes>"
      ]
     },
     "metadata": {},
     "output_type": "display_data"
    }
   ],
   "source": [
    "plot = radar_plot(data=data, model_names=model_names, invert_range=[\"loss\", \"runtime\"])\n",
    "plot.show()"
   ]
  }
 ],
 "metadata": {
  "kernelspec": {
   "display_name": "mva-snlp-canine-JqMbT94n-py3.10",
   "language": "python",
   "name": "python3"
  },
  "language_info": {
   "codemirror_mode": {
    "name": "ipython",
    "version": 3
   },
   "file_extension": ".py",
   "mimetype": "text/x-python",
   "name": "python",
   "nbconvert_exporter": "python",
   "pygments_lexer": "ipython3",
   "version": "3.10.6"
  },
  "orig_nbformat": 4
 },
 "nbformat": 4,
 "nbformat_minor": 2
}
